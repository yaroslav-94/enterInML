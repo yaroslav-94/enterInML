{
 "cells": [
  {
   "cell_type": "code",
   "execution_count": 108,
   "metadata": {},
   "outputs": [
    {
     "name": "stderr",
     "output_type": "stream",
     "text": [
      "/anaconda/lib/python3.6/site-packages/sklearn/cross_validation.py:44: DeprecationWarning: This module was deprecated in version 0.18 in favor of the model_selection module into which all the refactored classes and functions are moved. Also note that the interface of the new CV iterators are different from that of this module. This module will be removed in 0.20.\n",
      "  \"This module will be removed in 0.20.\", DeprecationWarning)\n"
     ]
    }
   ],
   "source": [
    "import numpy as np\n",
    "import pandas as pd\n",
    "from sklearn.model_selection import train_test_split\n",
    "from sklearn.ensemble import GradientBoostingClassifier\n",
    "from sklearn.cross_validation import KFold\n",
    "from sklearn.model_selection import cross_val_score"
   ]
  },
  {
   "cell_type": "markdown",
   "metadata": {},
   "source": [
    "# Подход 1 - Градиентный бустинг"
   ]
  },
  {
   "cell_type": "code",
   "execution_count": 96,
   "metadata": {},
   "outputs": [
    {
     "data": {
      "text/html": [
       "<div>\n",
       "<style>\n",
       "    .dataframe thead tr:only-child th {\n",
       "        text-align: right;\n",
       "    }\n",
       "\n",
       "    .dataframe thead th {\n",
       "        text-align: left;\n",
       "    }\n",
       "\n",
       "    .dataframe tbody tr th {\n",
       "        vertical-align: top;\n",
       "    }\n",
       "</style>\n",
       "<table border=\"1\" class=\"dataframe\">\n",
       "  <thead>\n",
       "    <tr style=\"text-align: right;\">\n",
       "      <th></th>\n",
       "      <th>start_time</th>\n",
       "      <th>lobby_type</th>\n",
       "      <th>r1_hero</th>\n",
       "      <th>r1_level</th>\n",
       "      <th>r1_xp</th>\n",
       "      <th>r1_gold</th>\n",
       "      <th>r1_lh</th>\n",
       "      <th>r1_kills</th>\n",
       "      <th>r1_deaths</th>\n",
       "      <th>r1_items</th>\n",
       "      <th>...</th>\n",
       "      <th>dire_boots_count</th>\n",
       "      <th>dire_ward_observer_count</th>\n",
       "      <th>dire_ward_sentry_count</th>\n",
       "      <th>dire_first_ward_time</th>\n",
       "      <th>duration</th>\n",
       "      <th>radiant_win</th>\n",
       "      <th>tower_status_radiant</th>\n",
       "      <th>tower_status_dire</th>\n",
       "      <th>barracks_status_radiant</th>\n",
       "      <th>barracks_status_dire</th>\n",
       "    </tr>\n",
       "    <tr>\n",
       "      <th>match_id</th>\n",
       "      <th></th>\n",
       "      <th></th>\n",
       "      <th></th>\n",
       "      <th></th>\n",
       "      <th></th>\n",
       "      <th></th>\n",
       "      <th></th>\n",
       "      <th></th>\n",
       "      <th></th>\n",
       "      <th></th>\n",
       "      <th></th>\n",
       "      <th></th>\n",
       "      <th></th>\n",
       "      <th></th>\n",
       "      <th></th>\n",
       "      <th></th>\n",
       "      <th></th>\n",
       "      <th></th>\n",
       "      <th></th>\n",
       "      <th></th>\n",
       "      <th></th>\n",
       "    </tr>\n",
       "  </thead>\n",
       "  <tbody>\n",
       "    <tr>\n",
       "      <th>0</th>\n",
       "      <td>1430198770</td>\n",
       "      <td>7</td>\n",
       "      <td>11</td>\n",
       "      <td>5</td>\n",
       "      <td>2098</td>\n",
       "      <td>1489</td>\n",
       "      <td>20</td>\n",
       "      <td>0</td>\n",
       "      <td>0</td>\n",
       "      <td>7</td>\n",
       "      <td>...</td>\n",
       "      <td>4</td>\n",
       "      <td>2</td>\n",
       "      <td>2</td>\n",
       "      <td>-52.0</td>\n",
       "      <td>2874</td>\n",
       "      <td>1</td>\n",
       "      <td>1796</td>\n",
       "      <td>0</td>\n",
       "      <td>51</td>\n",
       "      <td>0</td>\n",
       "    </tr>\n",
       "    <tr>\n",
       "      <th>1</th>\n",
       "      <td>1430220345</td>\n",
       "      <td>0</td>\n",
       "      <td>42</td>\n",
       "      <td>4</td>\n",
       "      <td>1188</td>\n",
       "      <td>1033</td>\n",
       "      <td>9</td>\n",
       "      <td>0</td>\n",
       "      <td>1</td>\n",
       "      <td>12</td>\n",
       "      <td>...</td>\n",
       "      <td>4</td>\n",
       "      <td>3</td>\n",
       "      <td>1</td>\n",
       "      <td>-5.0</td>\n",
       "      <td>2463</td>\n",
       "      <td>1</td>\n",
       "      <td>1974</td>\n",
       "      <td>0</td>\n",
       "      <td>63</td>\n",
       "      <td>1</td>\n",
       "    </tr>\n",
       "    <tr>\n",
       "      <th>2</th>\n",
       "      <td>1430227081</td>\n",
       "      <td>7</td>\n",
       "      <td>33</td>\n",
       "      <td>4</td>\n",
       "      <td>1319</td>\n",
       "      <td>1270</td>\n",
       "      <td>22</td>\n",
       "      <td>0</td>\n",
       "      <td>0</td>\n",
       "      <td>12</td>\n",
       "      <td>...</td>\n",
       "      <td>4</td>\n",
       "      <td>3</td>\n",
       "      <td>1</td>\n",
       "      <td>13.0</td>\n",
       "      <td>2130</td>\n",
       "      <td>0</td>\n",
       "      <td>0</td>\n",
       "      <td>1830</td>\n",
       "      <td>0</td>\n",
       "      <td>63</td>\n",
       "    </tr>\n",
       "    <tr>\n",
       "      <th>3</th>\n",
       "      <td>1430263531</td>\n",
       "      <td>1</td>\n",
       "      <td>29</td>\n",
       "      <td>4</td>\n",
       "      <td>1779</td>\n",
       "      <td>1056</td>\n",
       "      <td>14</td>\n",
       "      <td>0</td>\n",
       "      <td>0</td>\n",
       "      <td>5</td>\n",
       "      <td>...</td>\n",
       "      <td>4</td>\n",
       "      <td>2</td>\n",
       "      <td>0</td>\n",
       "      <td>27.0</td>\n",
       "      <td>1459</td>\n",
       "      <td>0</td>\n",
       "      <td>1920</td>\n",
       "      <td>2047</td>\n",
       "      <td>50</td>\n",
       "      <td>63</td>\n",
       "    </tr>\n",
       "    <tr>\n",
       "      <th>4</th>\n",
       "      <td>1430282290</td>\n",
       "      <td>7</td>\n",
       "      <td>13</td>\n",
       "      <td>4</td>\n",
       "      <td>1431</td>\n",
       "      <td>1090</td>\n",
       "      <td>8</td>\n",
       "      <td>1</td>\n",
       "      <td>0</td>\n",
       "      <td>8</td>\n",
       "      <td>...</td>\n",
       "      <td>3</td>\n",
       "      <td>3</td>\n",
       "      <td>0</td>\n",
       "      <td>-16.0</td>\n",
       "      <td>2449</td>\n",
       "      <td>0</td>\n",
       "      <td>4</td>\n",
       "      <td>1974</td>\n",
       "      <td>3</td>\n",
       "      <td>63</td>\n",
       "    </tr>\n",
       "  </tbody>\n",
       "</table>\n",
       "<p>5 rows × 108 columns</p>\n",
       "</div>"
      ],
      "text/plain": [
       "          start_time  lobby_type  r1_hero  r1_level  r1_xp  r1_gold  r1_lh  \\\n",
       "match_id                                                                     \n",
       "0         1430198770           7       11         5   2098     1489     20   \n",
       "1         1430220345           0       42         4   1188     1033      9   \n",
       "2         1430227081           7       33         4   1319     1270     22   \n",
       "3         1430263531           1       29         4   1779     1056     14   \n",
       "4         1430282290           7       13         4   1431     1090      8   \n",
       "\n",
       "          r1_kills  r1_deaths  r1_items          ...           \\\n",
       "match_id                                         ...            \n",
       "0                0          0         7          ...            \n",
       "1                0          1        12          ...            \n",
       "2                0          0        12          ...            \n",
       "3                0          0         5          ...            \n",
       "4                1          0         8          ...            \n",
       "\n",
       "          dire_boots_count  dire_ward_observer_count  dire_ward_sentry_count  \\\n",
       "match_id                                                                       \n",
       "0                        4                         2                       2   \n",
       "1                        4                         3                       1   \n",
       "2                        4                         3                       1   \n",
       "3                        4                         2                       0   \n",
       "4                        3                         3                       0   \n",
       "\n",
       "          dire_first_ward_time  duration  radiant_win  tower_status_radiant  \\\n",
       "match_id                                                                      \n",
       "0                        -52.0      2874            1                  1796   \n",
       "1                         -5.0      2463            1                  1974   \n",
       "2                         13.0      2130            0                     0   \n",
       "3                         27.0      1459            0                  1920   \n",
       "4                        -16.0      2449            0                     4   \n",
       "\n",
       "          tower_status_dire  barracks_status_radiant  barracks_status_dire  \n",
       "match_id                                                                    \n",
       "0                         0                       51                     0  \n",
       "1                         0                       63                     1  \n",
       "2                      1830                        0                    63  \n",
       "3                      2047                       50                    63  \n",
       "4                      1974                        3                    63  \n",
       "\n",
       "[5 rows x 108 columns]"
      ]
     },
     "execution_count": 96,
     "metadata": {},
     "output_type": "execute_result"
    }
   ],
   "source": [
    "features = pd.read_csv(\"/Users/semyon/python_tasks/final_task/features.csv\", index_col=\"match_id\")\n",
    "features.head()"
   ]
  },
  {
   "cell_type": "code",
   "execution_count": 97,
   "metadata": {},
   "outputs": [],
   "source": [
    "future = [\"duration\", \"radiant_win\", \"tower_status_radiant\", \"tower_status_dire\", \"barracks_status_radiant\", \n",
    "          \"barracks_status_dire\"]\n",
    "\n",
    "X = features.drop(future, axis=1)\n",
    "y = features[\"radiant_win\"]"
   ]
  },
  {
   "cell_type": "code",
   "execution_count": 99,
   "metadata": {},
   "outputs": [],
   "source": [
    "headers = X.columns.values\n",
    "\n",
    "for i in range(len(headers)):\n",
    "    X[headers[i]].fillna(0, inplace=True)\n",
    "\n",
    "X = X.values\n",
    "y = y.values"
   ]
  },
  {
   "cell_type": "code",
   "execution_count": 114,
   "metadata": {},
   "outputs": [
    {
     "name": "stdout",
     "output_type": "stream",
     "text": [
      "10: 0.6648329228049101\n",
      "Time elapsed: 0:00:35.397402\n",
      "\n",
      "20: 0.6821140369500347\n",
      "Time elapsed: 0:01:06.620759\n",
      "\n",
      "30: 0.6896947542059905\n",
      "Time elapsed: 0:01:36.837552\n",
      "\n",
      "40: 0.6939341916023564\n",
      "Time elapsed: 0:02:08.234120\n",
      "\n",
      "50: 0.6971139526079494\n",
      "Time elapsed: 0:02:55.616751\n",
      "\n",
      "60: 0.6998001572455899\n",
      "Time elapsed: 0:03:44.431056\n",
      "\n"
     ]
    }
   ],
   "source": [
    "import datetime\n",
    "import time\n",
    "\n",
    "kf = KFold(n=len(X), n_folds=5, random_state=1, shuffle=True)\n",
    "n_est = [10, 20, 30, 40, 50, 60]\n",
    "\n",
    "for i in range(len(n_est)):\n",
    "    start_time = datetime.datetime.now()\n",
    "    clf = GradientBoostingClassifier(n_estimators=n_est[i], random_state=1)\n",
    "    results = cross_val_score(X=X, y=y, estimator=clf, cv=kf, scoring=\"roc_auc\")\n",
    "    print(\"{}: {}\".format(n_est[i], results.mean()))\n",
    "    print('Time elapsed: {}\\n'.format(datetime.datetime.now() - start_time))\n"
   ]
  },
  {
   "cell_type": "markdown",
   "metadata": {},
   "source": [
    "### Отберем случайным образом n объектов каждого признака, где m - доля отобранных объектов от всей выборки"
   ]
  },
  {
   "cell_type": "code",
   "execution_count": 135,
   "metadata": {},
   "outputs": [],
   "source": [
    "import random "
   ]
  },
  {
   "cell_type": "code",
   "execution_count": 176,
   "metadata": {},
   "outputs": [],
   "source": [
    "future_new = [\"duration\", \"tower_status_radiant\", \"tower_status_dire\", \"barracks_status_radiant\", \"barracks_status_dire\"]\n",
    "\n",
    "X_y = features.drop(future_new, axis=1)\n",
    "headers = X_y.columns.values"
   ]
  },
  {
   "cell_type": "code",
   "execution_count": 177,
   "metadata": {},
   "outputs": [
    {
     "data": {
      "text/plain": [
       "array([False, False, False, False, False, False, False, False, False,\n",
       "       False, False, False, False, False, False, False, False, False,\n",
       "       False, False, False, False, False, False, False, False, False,\n",
       "       False, False, False, False, False, False, False, False, False,\n",
       "       False, False, False, False, False, False, False, False, False,\n",
       "       False, False, False, False, False, False, False, False, False,\n",
       "       False, False, False, False, False, False, False, False, False,\n",
       "       False, False, False, False, False, False, False, False, False,\n",
       "       False, False, False, False, False, False, False, False, False,\n",
       "       False, False, False, False, False, False, False, False, False,\n",
       "       False, False, False, False, False, False, False, False, False,\n",
       "       False, False, False,  True], dtype=bool)"
      ]
     },
     "execution_count": 177,
     "metadata": {},
     "output_type": "execute_result"
    }
   ],
   "source": [
    "headers == \"radiant_win\""
   ]
  },
  {
   "cell_type": "code",
   "execution_count": 178,
   "metadata": {},
   "outputs": [],
   "source": [
    "for i in range(len(headers)):\n",
    "    X_y[headers[i]].fillna(0, inplace=True)"
   ]
  },
  {
   "cell_type": "code",
   "execution_count": 180,
   "metadata": {},
   "outputs": [],
   "source": [
    "X_y = X_y.values"
   ]
  },
  {
   "cell_type": "code",
   "execution_count": 183,
   "metadata": {},
   "outputs": [
    {
     "data": {
      "text/plain": [
       "array([ 1.,  1.,  0., ...,  0.,  0.,  1.])"
      ]
     },
     "execution_count": 183,
     "metadata": {},
     "output_type": "execute_result"
    }
   ],
   "source": [
    "X_y[:, -1]"
   ]
  },
  {
   "cell_type": "code",
   "execution_count": 184,
   "metadata": {},
   "outputs": [],
   "source": [
    "m = 0.5\n",
    "n = m*len(X)\n",
    "\n",
    "random.shuffle(X_y)\n",
    "X_y_new = X_y[:int(n+1)]"
   ]
  },
  {
   "cell_type": "code",
   "execution_count": 212,
   "metadata": {},
   "outputs": [],
   "source": [
    "y_new = X_y[:, -1]\n",
    "X_new = X_y[:, :-1]"
   ]
  },
  {
   "cell_type": "code",
   "execution_count": 214,
   "metadata": {},
   "outputs": [
    {
     "name": "stdout",
     "output_type": "stream",
     "text": [
      "10: 0.6851643197936085\n",
      "Time elapsed: 0:00:35.670981\n",
      "\n",
      "20: 0.7052813448511153\n",
      "Time elapsed: 0:01:14.464681\n",
      "\n",
      "30: 0.713863292880709\n",
      "Time elapsed: 0:01:43.861978\n",
      "\n",
      "40: 0.7207310836769188\n",
      "Time elapsed: 0:02:12.297554\n",
      "\n",
      "50: 0.7255527547320174\n",
      "Time elapsed: 0:02:51.386903\n",
      "\n",
      "60: 0.7297538259540607\n",
      "Time elapsed: 0:02:55.461449\n",
      "\n"
     ]
    }
   ],
   "source": [
    "kf = KFold(n=len(X_new), n_folds=5, random_state=1, shuffle=True)\n",
    "n_est = [10, 20, 30, 40, 50, 60]\n",
    "\n",
    "for i in range(len(n_est)):\n",
    "    start_time = datetime.datetime.now()\n",
    "    clf = GradientBoostingClassifier(n_estimators=n_est[i], random_state=1)\n",
    "    results = cross_val_score(X=X_new, y=y_new, estimator=clf, cv=kf, scoring=\"roc_auc\")\n",
    "    print(\"{}: {}\".format(n_est[i], results.mean()))\n",
    "    print('Time elapsed: {}\\n'.format(datetime.datetime.now() - start_time))"
   ]
  },
  {
   "cell_type": "markdown",
   "metadata": {},
   "source": [
    "### Уменьшим max_depth с 3 до 2"
   ]
  },
  {
   "cell_type": "code",
   "execution_count": 216,
   "metadata": {},
   "outputs": [
    {
     "name": "stdout",
     "output_type": "stream",
     "text": [
      "10: 0.6656286838235581\n",
      "Time elapsed: 0:00:22.067859\n",
      "\n",
      "20: 0.6917615339129851\n",
      "Time elapsed: 0:00:42.981699\n",
      "\n",
      "30: 0.7010148673857927\n",
      "Time elapsed: 0:01:01.781547\n",
      "\n",
      "40: 0.7068149050885528\n",
      "Time elapsed: 0:01:24.305677\n",
      "\n",
      "50: 0.710778484561019\n",
      "Time elapsed: 0:01:42.759615\n",
      "\n",
      "60: 0.7144334065487709\n",
      "Time elapsed: 0:02:09.528212\n",
      "\n"
     ]
    }
   ],
   "source": [
    "kf = KFold(n=len(X_new), n_folds=5, random_state=1, shuffle=True)\n",
    "n_est = [10, 20, 30, 40, 50, 60]\n",
    "\n",
    "for i in range(len(n_est)):\n",
    "    start_time = datetime.datetime.now()\n",
    "    clf = GradientBoostingClassifier(n_estimators=n_est[i], random_state=1, max_depth=2)\n",
    "    results = cross_val_score(X=X_new, y=y_new, estimator=clf, cv=kf, scoring=\"roc_auc\")\n",
    "    print(\"{}: {}\".format(n_est[i], results.mean()))\n",
    "    print('Time elapsed: {}\\n'.format(datetime.datetime.now() - start_time))"
   ]
  },
  {
   "cell_type": "markdown",
   "metadata": {},
   "source": [
    "### Уменьшим max_depth с 2 до 1"
   ]
  },
  {
   "cell_type": "code",
   "execution_count": 288,
   "metadata": {},
   "outputs": [
    {
     "name": "stdout",
     "output_type": "stream",
     "text": [
      "10: 0.6250293337473546\n",
      "Time elapsed: 0:00:13.889928\n",
      "\n",
      "20: 0.6603082389522188\n",
      "Time elapsed: 0:00:23.182723\n",
      "\n",
      "30: 0.678855373539748\n",
      "Time elapsed: 0:00:33.541344\n",
      "\n",
      "40: 0.6870932058498579\n",
      "Time elapsed: 0:00:43.170735\n",
      "\n",
      "50: 0.6932133219433472\n",
      "Time elapsed: 0:00:52.798604\n",
      "\n",
      "60: 0.697132872793059\n",
      "Time elapsed: 0:01:02.639879\n",
      "\n"
     ]
    }
   ],
   "source": [
    "kf = KFold(n=len(X_new), n_folds=5, random_state=1, shuffle=True)\n",
    "n_est = [10, 20, 30, 40, 50, 60]\n",
    "\n",
    "for i in range(len(n_est)):\n",
    "    start_time = datetime.datetime.now()\n",
    "    clf = GradientBoostingClassifier(n_estimators=n_est[i], random_state=1, max_depth=1)\n",
    "    results = cross_val_score(X=X_new, y=y_new, estimator=clf, cv=kf, scoring=\"roc_auc\")\n",
    "    print(\"{}: {}\".format(n_est[i], results.mean()))\n",
    "    print('Time elapsed: {}\\n'.format(datetime.datetime.now() - start_time))"
   ]
  },
  {
   "cell_type": "markdown",
   "metadata": {},
   "source": [
    "### Найдем все столбцы с пропусками в исходных данных\n",
    "### (Будем считать не количество пустых ячеек, а их долю)"
   ]
  },
  {
   "cell_type": "code",
   "execution_count": 285,
   "metadata": {},
   "outputs": [],
   "source": [
    "all_headers = features.columns.values\n",
    "empty_cells_dict = dict()\n",
    "\n",
    "def empty_cells(column):\n",
    "    notempty = features[column].count()\n",
    "    overall = len(features[column])\n",
    "    empty_cells_dict[column] = float(round((overall - notempty)/overall, 3))"
   ]
  },
  {
   "cell_type": "code",
   "execution_count": 286,
   "metadata": {},
   "outputs": [],
   "source": [
    "for i in range(len(all_headers)):\n",
    "    empty_cells(all_headers[i])"
   ]
  },
  {
   "cell_type": "code",
   "execution_count": 287,
   "metadata": {},
   "outputs": [
    {
     "data": {
      "text/plain": [
       "[('first_blood_player2', 0.452),\n",
       " ('radiant_flying_courier_time', 0.283),\n",
       " ('dire_flying_courier_time', 0.268),\n",
       " ('first_blood_time', 0.201),\n",
       " ('first_blood_team', 0.201),\n",
       " ('first_blood_player1', 0.201),\n",
       " ('dire_bottle_time', 0.166),\n",
       " ('radiant_bottle_time', 0.161),\n",
       " ('radiant_first_ward_time', 0.019),\n",
       " ('dire_first_ward_time', 0.019),\n",
       " ('radiant_courier_time', 0.007),\n",
       " ('dire_courier_time', 0.007)]"
      ]
     },
     "execution_count": 287,
     "metadata": {},
     "output_type": "execute_result"
    }
   ],
   "source": [
    "import operator\n",
    "\n",
    "sorted_dict = sorted(empty_cells_dict.items(), key=operator.itemgetter(1), reverse=True)\n",
    "sorted_dict[:12]"
   ]
  },
  {
   "cell_type": "markdown",
   "metadata": {},
   "source": [
    "# Отчет\n",
    "\n",
    "### 1. Следуюшие признаки имеют пропуски в своих значениях:\n",
    " \n",
    "### ('first_blood_player2', 0.452),\n",
    "### ('radiant_flying_courier_time', 0.283),\n",
    "### ('dire_flying_courier_time', 0.268),\n",
    "### ('first_blood_time', 0.201),\n",
    "### ('first_blood_team', 0.201),\n",
    "### ('first_blood_player1', 0.201),\n",
    "### ('dire_bottle_time', 0.166),\n",
    "### ('radiant_bottle_time', 0.161),\n",
    "### ('radiant_first_ward_time', 0.019),\n",
    "### ('dire_first_ward_time', 0.019),\n",
    "### ('radiant_courier_time', 0.007),\n",
    "### ('dire_courier_time', 0.007)\n",
    " \n",
    "### Например, существенная доля пропусков в признаке \"first_blood_player1\" может быть связана с тем, что в первые 5 минут матча не произошло события first blood. Или же пропуски в признаке \"radiant_bottle_time\" могут быть объяснены тем, что команда вплоть до исхода матча не приобрела предмет \"bottle\".\n",
    " \n",
    "### 2. Целевая переменная: \"radiant_win\"\n",
    "\n",
    "### 3. Кросс-валидация для градиентного бустинга с 30 деревьями и дефолтными параметрами:\n",
    "\n",
    "### a) длительность: 01 мин 36.84 сек\n",
    "\n",
    "### б) качество AUC_ROC: 0.6896947542059905\n",
    "\n",
    "### 4. Использование больше 30 деревьев:\n",
    "\n",
    "### Оправдано при уменьшении max_depth, например с 3 до 1, при этом процесс ускоряется в 3 раза, а качество (при одинаковых количествах деревьев) уменьшается незначительно."
   ]
  },
  {
   "cell_type": "markdown",
   "metadata": {},
   "source": [
    "# Подход 2 - Логистическая регрессия"
   ]
  },
  {
   "cell_type": "code",
   "execution_count": 448,
   "metadata": {},
   "outputs": [],
   "source": [
    "future = [\"duration\", \"radiant_win\", \"tower_status_radiant\", \"tower_status_dire\", \"barracks_status_radiant\", \"barracks_status_dire\"]\n",
    "\n",
    "X = features.drop(future, axis=1)\n",
    "y = features[\"radiant_win\"]\n",
    "\n",
    "headers = X.columns.values\n",
    "\n",
    "for i in range(len(headers)):\n",
    "    X[headers[i]].fillna(0, inplace=True)\n",
    "\n",
    "X = X.values\n",
    "y = y.values"
   ]
  },
  {
   "cell_type": "code",
   "execution_count": 449,
   "metadata": {},
   "outputs": [],
   "source": [
    "from sklearn.linear_model import LogisticRegression "
   ]
  },
  {
   "cell_type": "code",
   "execution_count": 450,
   "metadata": {},
   "outputs": [],
   "source": [
    "from sklearn.preprocessing import StandardScaler\n",
    "\n",
    "scaler = StandardScaler()\n",
    "X_scaled = scaler.fit_transform(X)"
   ]
  },
  {
   "cell_type": "code",
   "execution_count": 451,
   "metadata": {},
   "outputs": [
    {
     "name": "stdout",
     "output_type": "stream",
     "text": [
      "1e-06: 0.6882248200389643\n",
      "Time elapsed: 0:00:07.410762\n",
      "\n",
      "1e-05: 0.6951715154395941\n",
      "Time elapsed: 0:00:07.295226\n",
      "\n",
      "0.0001: 0.7112812236746439\n",
      "Time elapsed: 0:00:07.371688\n",
      "\n",
      "0.001: 0.7162097438628422\n",
      "Time elapsed: 0:00:08.233321\n",
      "\n",
      "0.01: 0.7163757705375227\n",
      "Time elapsed: 0:00:11.113963\n",
      "\n",
      "0.1: 0.7163507985577163\n",
      "Time elapsed: 0:00:11.196695\n",
      "\n",
      "1.0: 0.7163472913397035\n",
      "Time elapsed: 0:00:10.478385\n",
      "\n"
     ]
    }
   ],
   "source": [
    "C_array = np.power(10.0, np.arange(-6, 1))\n",
    "\n",
    "for i in range(len(C_array)):\n",
    "    start_time = datetime.datetime.now()\n",
    "    kf = KFold(n=len(X_scaled), n_folds=5, random_state=1, shuffle=True)\n",
    "    clf = LogisticRegression(C=C_array[i], random_state=1, penalty=\"l2\", solver=\"sag\")\n",
    "    results = cross_val_score(X=X_scaled, y=y, estimator=clf, cv=kf, scoring=\"roc_auc\")\n",
    "    print(\"{}: {}\".format(C_array[i], results.mean()))\n",
    "    print('Time elapsed: {}\\n'.format(datetime.datetime.now() - start_time))"
   ]
  },
  {
   "cell_type": "markdown",
   "metadata": {},
   "source": [
    "### Уберем категориальные признаки из выборки"
   ]
  },
  {
   "cell_type": "code",
   "execution_count": 452,
   "metadata": {},
   "outputs": [
    {
     "data": {
      "text/plain": [
       "array(['start_time', 'lobby_type', 'r1_hero', 'r1_level', 'r1_xp',\n",
       "       'r1_gold', 'r1_lh', 'r1_kills', 'r1_deaths', 'r1_items', 'r2_hero',\n",
       "       'r2_level', 'r2_xp', 'r2_gold', 'r2_lh', 'r2_kills', 'r2_deaths',\n",
       "       'r2_items', 'r3_hero', 'r3_level', 'r3_xp', 'r3_gold', 'r3_lh',\n",
       "       'r3_kills', 'r3_deaths', 'r3_items', 'r4_hero', 'r4_level', 'r4_xp',\n",
       "       'r4_gold', 'r4_lh', 'r4_kills', 'r4_deaths', 'r4_items', 'r5_hero',\n",
       "       'r5_level', 'r5_xp', 'r5_gold', 'r5_lh', 'r5_kills', 'r5_deaths',\n",
       "       'r5_items', 'd1_hero', 'd1_level', 'd1_xp', 'd1_gold', 'd1_lh',\n",
       "       'd1_kills', 'd1_deaths', 'd1_items', 'd2_hero', 'd2_level', 'd2_xp',\n",
       "       'd2_gold', 'd2_lh', 'd2_kills', 'd2_deaths', 'd2_items', 'd3_hero',\n",
       "       'd3_level', 'd3_xp', 'd3_gold', 'd3_lh', 'd3_kills', 'd3_deaths',\n",
       "       'd3_items', 'd4_hero', 'd4_level', 'd4_xp', 'd4_gold', 'd4_lh',\n",
       "       'd4_kills', 'd4_deaths', 'd4_items', 'd5_hero', 'd5_level', 'd5_xp',\n",
       "       'd5_gold', 'd5_lh', 'd5_kills', 'd5_deaths', 'd5_items',\n",
       "       'first_blood_time', 'first_blood_team', 'first_blood_player1',\n",
       "       'first_blood_player2', 'radiant_bottle_time',\n",
       "       'radiant_courier_time', 'radiant_flying_courier_time',\n",
       "       'radiant_tpscroll_count', 'radiant_boots_count',\n",
       "       'radiant_ward_observer_count', 'radiant_ward_sentry_count',\n",
       "       'radiant_first_ward_time', 'dire_bottle_time', 'dire_courier_time',\n",
       "       'dire_flying_courier_time', 'dire_tpscroll_count',\n",
       "       'dire_boots_count', 'dire_ward_observer_count',\n",
       "       'dire_ward_sentry_count', 'dire_first_ward_time', 'duration',\n",
       "       'radiant_win', 'tower_status_radiant', 'tower_status_dire',\n",
       "       'barracks_status_radiant', 'barracks_status_dire'], dtype=object)"
      ]
     },
     "execution_count": 452,
     "metadata": {},
     "output_type": "execute_result"
    }
   ],
   "source": [
    "headers = features.columns.values\n",
    "headers"
   ]
  },
  {
   "cell_type": "code",
   "execution_count": 454,
   "metadata": {},
   "outputs": [],
   "source": [
    "categorical = [\"lobby_type\", \"r1_hero\", \"r2_hero\", \"r3_hero\", \"r4_hero\", \"r5_hero\", \"d1_hero\", \"d2_hero\", \"d3_hero\", \n",
    "               \"d4_hero\", \"d5_hero\"]\n",
    "\n",
    "X = features.drop(future, axis=1)\n",
    "X_noncategorical = X.drop(categorical, axis=1)\n",
    "y = features[\"radiant_win\"]\n",
    "\n",
    "for i in range(len(X_noncategorical.columns.values)):\n",
    "    X_noncategorical[X_noncategorical.columns.values[i]].fillna(0, inplace=True)\n",
    "\n",
    "X_noncategorical = X_noncategorical.values\n",
    "y = y.values\n",
    "\n",
    "scaler = StandardScaler()\n",
    "scaler.fit(X_noncategorical)\n",
    "X_noncategorical_scaled = scaler.transform(X_noncategorical)"
   ]
  },
  {
   "cell_type": "code",
   "execution_count": 456,
   "metadata": {},
   "outputs": [
    {
     "name": "stdout",
     "output_type": "stream",
     "text": [
      "1e-06: 0.6881706233170358\n",
      "Time elapsed: 0:00:06.637971\n",
      "\n",
      "1e-05: 0.6951059856286517\n",
      "Time elapsed: 0:00:07.195328\n",
      "\n",
      "0.0001: 0.711259204203986\n",
      "Time elapsed: 0:00:07.698114\n",
      "\n",
      "0.001: 0.7162335431953399\n",
      "Time elapsed: 0:00:07.545725\n",
      "\n",
      "0.01: 0.716408681728097\n",
      "Time elapsed: 0:00:09.358952\n",
      "\n",
      "0.1: 0.7163839265439949\n",
      "Time elapsed: 0:00:09.644508\n",
      "\n",
      "1.0: 0.7163802499786964\n",
      "Time elapsed: 0:00:09.617594\n",
      "\n"
     ]
    }
   ],
   "source": [
    "C_array = np.power(10.0, np.arange(-6, 1))\n",
    "\n",
    "for i in range(len(C_array)):\n",
    "    start_time = datetime.datetime.now()\n",
    "    kf = KFold(n=len(X_noncategorical_scaled), n_folds=5, random_state=1, shuffle=True)\n",
    "    clf = LogisticRegression(C=C_array[i], random_state=1, penalty=\"l2\", solver=\"sag\")\n",
    "    results = cross_val_score(X=X_noncategorical_scaled, y=y, estimator=clf, cv=kf, scoring=\"roc_auc\")\n",
    "    print(\"{}: {}\".format(C_array[i], results.mean()))\n",
    "    print('Time elapsed: {}\\n'.format(datetime.datetime.now() - start_time))"
   ]
  },
  {
   "cell_type": "markdown",
   "metadata": {},
   "source": [
    "### Сколько разных героев существует"
   ]
  },
  {
   "cell_type": "code",
   "execution_count": 458,
   "metadata": {},
   "outputs": [],
   "source": [
    "N = len(np.unique(features[categorical]['d1_hero']))\n",
    "data = features[categorical].drop([\"lobby_type\"], axis=1)"
   ]
  },
  {
   "cell_type": "code",
   "execution_count": 459,
   "metadata": {},
   "outputs": [
    {
     "data": {
      "text/html": [
       "<div>\n",
       "<style>\n",
       "    .dataframe thead tr:only-child th {\n",
       "        text-align: right;\n",
       "    }\n",
       "\n",
       "    .dataframe thead th {\n",
       "        text-align: left;\n",
       "    }\n",
       "\n",
       "    .dataframe tbody tr th {\n",
       "        vertical-align: top;\n",
       "    }\n",
       "</style>\n",
       "<table border=\"1\" class=\"dataframe\">\n",
       "  <thead>\n",
       "    <tr style=\"text-align: right;\">\n",
       "      <th></th>\n",
       "      <th>r1_hero</th>\n",
       "      <th>r2_hero</th>\n",
       "      <th>r3_hero</th>\n",
       "      <th>r4_hero</th>\n",
       "      <th>r5_hero</th>\n",
       "      <th>d1_hero</th>\n",
       "      <th>d2_hero</th>\n",
       "      <th>d3_hero</th>\n",
       "      <th>d4_hero</th>\n",
       "      <th>d5_hero</th>\n",
       "    </tr>\n",
       "    <tr>\n",
       "      <th>match_id</th>\n",
       "      <th></th>\n",
       "      <th></th>\n",
       "      <th></th>\n",
       "      <th></th>\n",
       "      <th></th>\n",
       "      <th></th>\n",
       "      <th></th>\n",
       "      <th></th>\n",
       "      <th></th>\n",
       "      <th></th>\n",
       "    </tr>\n",
       "  </thead>\n",
       "  <tbody>\n",
       "    <tr>\n",
       "      <th>0</th>\n",
       "      <td>11</td>\n",
       "      <td>67</td>\n",
       "      <td>29</td>\n",
       "      <td>20</td>\n",
       "      <td>105</td>\n",
       "      <td>4</td>\n",
       "      <td>42</td>\n",
       "      <td>21</td>\n",
       "      <td>37</td>\n",
       "      <td>84</td>\n",
       "    </tr>\n",
       "    <tr>\n",
       "      <th>1</th>\n",
       "      <td>42</td>\n",
       "      <td>49</td>\n",
       "      <td>67</td>\n",
       "      <td>37</td>\n",
       "      <td>26</td>\n",
       "      <td>39</td>\n",
       "      <td>88</td>\n",
       "      <td>79</td>\n",
       "      <td>7</td>\n",
       "      <td>12</td>\n",
       "    </tr>\n",
       "    <tr>\n",
       "      <th>2</th>\n",
       "      <td>33</td>\n",
       "      <td>98</td>\n",
       "      <td>20</td>\n",
       "      <td>27</td>\n",
       "      <td>4</td>\n",
       "      <td>22</td>\n",
       "      <td>66</td>\n",
       "      <td>86</td>\n",
       "      <td>29</td>\n",
       "      <td>80</td>\n",
       "    </tr>\n",
       "    <tr>\n",
       "      <th>3</th>\n",
       "      <td>29</td>\n",
       "      <td>30</td>\n",
       "      <td>75</td>\n",
       "      <td>37</td>\n",
       "      <td>41</td>\n",
       "      <td>96</td>\n",
       "      <td>48</td>\n",
       "      <td>15</td>\n",
       "      <td>102</td>\n",
       "      <td>20</td>\n",
       "    </tr>\n",
       "    <tr>\n",
       "      <th>4</th>\n",
       "      <td>13</td>\n",
       "      <td>27</td>\n",
       "      <td>30</td>\n",
       "      <td>72</td>\n",
       "      <td>93</td>\n",
       "      <td>26</td>\n",
       "      <td>69</td>\n",
       "      <td>22</td>\n",
       "      <td>25</td>\n",
       "      <td>8</td>\n",
       "    </tr>\n",
       "  </tbody>\n",
       "</table>\n",
       "</div>"
      ],
      "text/plain": [
       "          r1_hero  r2_hero  r3_hero  r4_hero  r5_hero  d1_hero  d2_hero  \\\n",
       "match_id                                                                  \n",
       "0              11       67       29       20      105        4       42   \n",
       "1              42       49       67       37       26       39       88   \n",
       "2              33       98       20       27        4       22       66   \n",
       "3              29       30       75       37       41       96       48   \n",
       "4              13       27       30       72       93       26       69   \n",
       "\n",
       "          d3_hero  d4_hero  d5_hero  \n",
       "match_id                             \n",
       "0              21       37       84  \n",
       "1              79        7       12  \n",
       "2              86       29       80  \n",
       "3              15      102       20  \n",
       "4              22       25        8  "
      ]
     },
     "execution_count": 459,
     "metadata": {},
     "output_type": "execute_result"
    }
   ],
   "source": [
    "headers = data.columns.values\n",
    "data[:5]"
   ]
  },
  {
   "cell_type": "markdown",
   "metadata": {},
   "source": [
    "### Соберем мешок слов из уникальных героев"
   ]
  },
  {
   "cell_type": "code",
   "execution_count": 460,
   "metadata": {},
   "outputs": [
    {
     "name": "stderr",
     "output_type": "stream",
     "text": [
      "/anaconda/lib/python3.6/site-packages/ipykernel_launcher.py:9: DeprecationWarning: \n",
      ".ix is deprecated. Please use\n",
      ".loc for label based indexing or\n",
      ".iloc for positional indexing\n",
      "\n",
      "See the documentation here:\n",
      "http://pandas.pydata.org/pandas-docs/stable/indexing.html#deprecate_ix\n",
      "  if __name__ == '__main__':\n"
     ]
    }
   ],
   "source": [
    "hero_D = np.unique(data['d1_hero'])\n",
    "\n",
    "N = max(hero_D)\n",
    "\n",
    "X_pick = np.zeros((data.shape[0], N))\n",
    "\n",
    "for i, match_id in enumerate(data.index):\n",
    "    for p in range(5):\n",
    "        X_pick[i, data.ix[match_id, 'r%d_hero' % (p+1)]-1] = 1\n",
    "        X_pick[i, data.ix[match_id, 'd%d_hero' % (p+1)]-1] = -1 "
   ]
  },
  {
   "cell_type": "code",
   "execution_count": 461,
   "metadata": {},
   "outputs": [
    {
     "name": "stdout",
     "output_type": "stream",
     "text": [
      "1: 486150\n",
      "-1: 486150\n",
      "0: 9917460\n"
     ]
    }
   ],
   "source": [
    "unity = 0\n",
    "minus = 0\n",
    "zeros = 0\n",
    "\n",
    "for i in range(len(X_pick)):\n",
    "    for k in range(len(X_pick[i])):\n",
    "        if X_pick[i][k] == 1:\n",
    "            unity += 1\n",
    "        elif X_pick[i][k] == -1:\n",
    "            minus += 1\n",
    "        else:\n",
    "            zeros += 1\n",
    "            \n",
    "print(\"1: {}\\n-1: {}\\n0: {}\".format(unity, minus, zeros))"
   ]
  },
  {
   "cell_type": "code",
   "execution_count": 462,
   "metadata": {},
   "outputs": [],
   "source": [
    "from sklearn.feature_selection import VarianceThreshold\n",
    "\n",
    "selector = VarianceThreshold()\n",
    "selector.fit_transform(X_pick)\n",
    "\n",
    "X_new = np.hstack((X_noncategorical_scaled, X_pick))"
   ]
  },
  {
   "cell_type": "code",
   "execution_count": 465,
   "metadata": {},
   "outputs": [
    {
     "name": "stdout",
     "output_type": "stream",
     "text": [
      "1e-06: 0.6905621378311867\n",
      "Time elapsed: 0:00:11.601466\n",
      "\n",
      "1e-05: 0.6991832436844884\n",
      "Time elapsed: 0:00:11.469015\n",
      "\n",
      "0.0001: 0.7249773458984026\n",
      "Time elapsed: 0:00:11.706079\n",
      "\n",
      "0.001: 0.7462115671043215\n",
      "Time elapsed: 0:00:13.786981\n",
      "\n",
      "0.01: 0.7516522504802192\n",
      "Time elapsed: 0:00:20.881597\n",
      "\n"
     ]
    }
   ],
   "source": [
    "C_array = np.power(10.0, np.arange(-6, -1))\n",
    "\n",
    "for i in range(len(C_array)):\n",
    "    start_time = datetime.datetime.now()\n",
    "    kf = KFold(n=len(X_new), n_folds=5, random_state=1, shuffle=True)\n",
    "    clf = LogisticRegression(C=C_array[i], random_state=1, penalty=\"l2\", solver=\"sag\")\n",
    "    results = cross_val_score(X=X_new, y=y, estimator=clf, cv=kf, scoring=\"roc_auc\")\n",
    "    print(\"{}: {}\".format(C_array[i], results.mean()))\n",
    "    print('Time elapsed: {}\\n'.format(datetime.datetime.now() - start_time))"
   ]
  },
  {
   "cell_type": "markdown",
   "metadata": {},
   "source": [
    "## Проверим лучшую модель на тестовой выборке"
   ]
  },
  {
   "cell_type": "code",
   "execution_count": 569,
   "metadata": {},
   "outputs": [
    {
     "data": {
      "text/html": [
       "<div>\n",
       "<style>\n",
       "    .dataframe thead tr:only-child th {\n",
       "        text-align: right;\n",
       "    }\n",
       "\n",
       "    .dataframe thead th {\n",
       "        text-align: left;\n",
       "    }\n",
       "\n",
       "    .dataframe tbody tr th {\n",
       "        vertical-align: top;\n",
       "    }\n",
       "</style>\n",
       "<table border=\"1\" class=\"dataframe\">\n",
       "  <thead>\n",
       "    <tr style=\"text-align: right;\">\n",
       "      <th></th>\n",
       "      <th>start_time</th>\n",
       "      <th>lobby_type</th>\n",
       "      <th>r1_hero</th>\n",
       "      <th>r1_level</th>\n",
       "      <th>r1_xp</th>\n",
       "      <th>r1_gold</th>\n",
       "      <th>r1_lh</th>\n",
       "      <th>r1_kills</th>\n",
       "      <th>r1_deaths</th>\n",
       "      <th>r1_items</th>\n",
       "      <th>...</th>\n",
       "      <th>radiant_ward_sentry_count</th>\n",
       "      <th>radiant_first_ward_time</th>\n",
       "      <th>dire_bottle_time</th>\n",
       "      <th>dire_courier_time</th>\n",
       "      <th>dire_flying_courier_time</th>\n",
       "      <th>dire_tpscroll_count</th>\n",
       "      <th>dire_boots_count</th>\n",
       "      <th>dire_ward_observer_count</th>\n",
       "      <th>dire_ward_sentry_count</th>\n",
       "      <th>dire_first_ward_time</th>\n",
       "    </tr>\n",
       "    <tr>\n",
       "      <th>match_id</th>\n",
       "      <th></th>\n",
       "      <th></th>\n",
       "      <th></th>\n",
       "      <th></th>\n",
       "      <th></th>\n",
       "      <th></th>\n",
       "      <th></th>\n",
       "      <th></th>\n",
       "      <th></th>\n",
       "      <th></th>\n",
       "      <th></th>\n",
       "      <th></th>\n",
       "      <th></th>\n",
       "      <th></th>\n",
       "      <th></th>\n",
       "      <th></th>\n",
       "      <th></th>\n",
       "      <th></th>\n",
       "      <th></th>\n",
       "      <th></th>\n",
       "      <th></th>\n",
       "    </tr>\n",
       "  </thead>\n",
       "  <tbody>\n",
       "    <tr>\n",
       "      <th>6</th>\n",
       "      <td>1430287923</td>\n",
       "      <td>0</td>\n",
       "      <td>93</td>\n",
       "      <td>4</td>\n",
       "      <td>1103</td>\n",
       "      <td>1089</td>\n",
       "      <td>8</td>\n",
       "      <td>0</td>\n",
       "      <td>1</td>\n",
       "      <td>9</td>\n",
       "      <td>...</td>\n",
       "      <td>0</td>\n",
       "      <td>12.0</td>\n",
       "      <td>247.0</td>\n",
       "      <td>-86.0</td>\n",
       "      <td>272.0</td>\n",
       "      <td>3</td>\n",
       "      <td>4</td>\n",
       "      <td>2</td>\n",
       "      <td>0</td>\n",
       "      <td>118.0</td>\n",
       "    </tr>\n",
       "    <tr>\n",
       "      <th>7</th>\n",
       "      <td>1430293357</td>\n",
       "      <td>1</td>\n",
       "      <td>20</td>\n",
       "      <td>2</td>\n",
       "      <td>556</td>\n",
       "      <td>570</td>\n",
       "      <td>1</td>\n",
       "      <td>0</td>\n",
       "      <td>0</td>\n",
       "      <td>9</td>\n",
       "      <td>...</td>\n",
       "      <td>2</td>\n",
       "      <td>-29.0</td>\n",
       "      <td>168.0</td>\n",
       "      <td>-54.0</td>\n",
       "      <td>NaN</td>\n",
       "      <td>3</td>\n",
       "      <td>2</td>\n",
       "      <td>2</td>\n",
       "      <td>1</td>\n",
       "      <td>16.0</td>\n",
       "    </tr>\n",
       "    <tr>\n",
       "      <th>10</th>\n",
       "      <td>1430301774</td>\n",
       "      <td>1</td>\n",
       "      <td>112</td>\n",
       "      <td>2</td>\n",
       "      <td>751</td>\n",
       "      <td>808</td>\n",
       "      <td>1</td>\n",
       "      <td>0</td>\n",
       "      <td>0</td>\n",
       "      <td>13</td>\n",
       "      <td>...</td>\n",
       "      <td>1</td>\n",
       "      <td>-22.0</td>\n",
       "      <td>46.0</td>\n",
       "      <td>-87.0</td>\n",
       "      <td>186.0</td>\n",
       "      <td>1</td>\n",
       "      <td>3</td>\n",
       "      <td>3</td>\n",
       "      <td>0</td>\n",
       "      <td>-34.0</td>\n",
       "    </tr>\n",
       "    <tr>\n",
       "      <th>13</th>\n",
       "      <td>1430323933</td>\n",
       "      <td>1</td>\n",
       "      <td>27</td>\n",
       "      <td>3</td>\n",
       "      <td>708</td>\n",
       "      <td>903</td>\n",
       "      <td>1</td>\n",
       "      <td>1</td>\n",
       "      <td>1</td>\n",
       "      <td>11</td>\n",
       "      <td>...</td>\n",
       "      <td>2</td>\n",
       "      <td>-49.0</td>\n",
       "      <td>30.0</td>\n",
       "      <td>-89.0</td>\n",
       "      <td>210.0</td>\n",
       "      <td>3</td>\n",
       "      <td>4</td>\n",
       "      <td>2</td>\n",
       "      <td>1</td>\n",
       "      <td>-26.0</td>\n",
       "    </tr>\n",
       "    <tr>\n",
       "      <th>16</th>\n",
       "      <td>1430331112</td>\n",
       "      <td>1</td>\n",
       "      <td>39</td>\n",
       "      <td>4</td>\n",
       "      <td>1259</td>\n",
       "      <td>661</td>\n",
       "      <td>4</td>\n",
       "      <td>0</td>\n",
       "      <td>0</td>\n",
       "      <td>9</td>\n",
       "      <td>...</td>\n",
       "      <td>0</td>\n",
       "      <td>36.0</td>\n",
       "      <td>180.0</td>\n",
       "      <td>-86.0</td>\n",
       "      <td>180.0</td>\n",
       "      <td>1</td>\n",
       "      <td>3</td>\n",
       "      <td>2</td>\n",
       "      <td>1</td>\n",
       "      <td>-33.0</td>\n",
       "    </tr>\n",
       "  </tbody>\n",
       "</table>\n",
       "<p>5 rows × 102 columns</p>\n",
       "</div>"
      ],
      "text/plain": [
       "          start_time  lobby_type  r1_hero  r1_level  r1_xp  r1_gold  r1_lh  \\\n",
       "match_id                                                                     \n",
       "6         1430287923           0       93         4   1103     1089      8   \n",
       "7         1430293357           1       20         2    556      570      1   \n",
       "10        1430301774           1      112         2    751      808      1   \n",
       "13        1430323933           1       27         3    708      903      1   \n",
       "16        1430331112           1       39         4   1259      661      4   \n",
       "\n",
       "          r1_kills  r1_deaths  r1_items          ...           \\\n",
       "match_id                                         ...            \n",
       "6                0          1         9          ...            \n",
       "7                0          0         9          ...            \n",
       "10               0          0        13          ...            \n",
       "13               1          1        11          ...            \n",
       "16               0          0         9          ...            \n",
       "\n",
       "          radiant_ward_sentry_count  radiant_first_ward_time  \\\n",
       "match_id                                                       \n",
       "6                                 0                     12.0   \n",
       "7                                 2                    -29.0   \n",
       "10                                1                    -22.0   \n",
       "13                                2                    -49.0   \n",
       "16                                0                     36.0   \n",
       "\n",
       "          dire_bottle_time  dire_courier_time  dire_flying_courier_time  \\\n",
       "match_id                                                                  \n",
       "6                    247.0              -86.0                     272.0   \n",
       "7                    168.0              -54.0                       NaN   \n",
       "10                    46.0              -87.0                     186.0   \n",
       "13                    30.0              -89.0                     210.0   \n",
       "16                   180.0              -86.0                     180.0   \n",
       "\n",
       "          dire_tpscroll_count  dire_boots_count  dire_ward_observer_count  \\\n",
       "match_id                                                                    \n",
       "6                           3                 4                         2   \n",
       "7                           3                 2                         2   \n",
       "10                          1                 3                         3   \n",
       "13                          3                 4                         2   \n",
       "16                          1                 3                         2   \n",
       "\n",
       "          dire_ward_sentry_count  dire_first_ward_time  \n",
       "match_id                                                \n",
       "6                              0                 118.0  \n",
       "7                              1                  16.0  \n",
       "10                             0                 -34.0  \n",
       "13                             1                 -26.0  \n",
       "16                             1                 -33.0  \n",
       "\n",
       "[5 rows x 102 columns]"
      ]
     },
     "execution_count": 569,
     "metadata": {},
     "output_type": "execute_result"
    }
   ],
   "source": [
    "X_test = pd.read_csv(\"/Users/semyon/python_tasks/final_task/features_test.csv\", index_col=\"match_id\")\n",
    "X_test[:5]"
   ]
  },
  {
   "cell_type": "code",
   "execution_count": 570,
   "metadata": {},
   "outputs": [
    {
     "name": "stderr",
     "output_type": "stream",
     "text": [
      "/anaconda/lib/python3.6/site-packages/ipykernel_launcher.py:9: DeprecationWarning: \n",
      ".ix is deprecated. Please use\n",
      ".loc for label based indexing or\n",
      ".iloc for positional indexing\n",
      "\n",
      "See the documentation here:\n",
      "http://pandas.pydata.org/pandas-docs/stable/indexing.html#deprecate_ix\n",
      "  if __name__ == '__main__':\n"
     ]
    }
   ],
   "source": [
    "hero_D = np.unique(X_test['d1_hero'])\n",
    "\n",
    "N = max(hero_D)\n",
    "\n",
    "X_pick = np.zeros((X_test.shape[0], N))\n",
    "\n",
    "for i, match_id in enumerate(X_test.index):\n",
    "    for p in range(5):\n",
    "        X_pick[i, X_test.ix[match_id, 'r%d_hero' % (p+1)]-1] = 1\n",
    "        X_pick[i, X_test.ix[match_id, 'd%d_hero' % (p+1)]-1] = -1"
   ]
  },
  {
   "cell_type": "code",
   "execution_count": 571,
   "metadata": {},
   "outputs": [],
   "source": [
    "categorical = [\"lobby_type\", \"r1_hero\", \"r2_hero\", \"r3_hero\", \"r4_hero\", \"r5_hero\", \"d1_hero\", \"d2_hero\", \"d3_hero\", \"d4_hero\", \"d5_hero\"]\n",
    "\n",
    "X_test_noncategorical = X_test.drop(categorical, axis=1)\n",
    "\n",
    "for i in range(len(X_test_noncategorical.columns.values)):\n",
    "    X_test_noncategorical[X_test_noncategorical.columns.values[i]].fillna(0, inplace=True)\n",
    "\n",
    "X_test_noncategorical = X_test_noncategorical.values\n",
    "scaler = StandardScaler()\n",
    "scaler.fit(X_test_noncategorical)\n",
    "X_test_noncategorical_scaled = scaler.transform(X_test_noncategorical)\n",
    "\n",
    "X_test_scaled = np.hstack((X_test_noncategorical_scaled, X_pick))"
   ]
  },
  {
   "cell_type": "code",
   "execution_count": 579,
   "metadata": {},
   "outputs": [
    {
     "name": "stdout",
     "output_type": "stream",
     "text": [
      "Time elapsed: 0:00:05.351809\n",
      "\n",
      "\tradiant_win\n",
      "min: 0.008447702602170981\n",
      "max: 0.9959849793376752\n"
     ]
    }
   ],
   "source": [
    "X_train = X_new\n",
    "start_time = datetime.datetime.now()\n",
    "clf_logit = LogisticRegression(C=.01, random_state=1, penalty=\"l2\", solver=\"sag\")\n",
    "clf_logit.fit(X_train, y)\n",
    "predictions = clf_logit.predict_proba(X_test_scaled)[:, 1]\n",
    "print('Time elapsed: {}\\n'.format(datetime.datetime.now() - start_time))\n",
    "\n",
    "print(\"\\tradiant_win\\nmin: {}\\nmax: {}\".format(min(predictions), max(predictions)))"
   ]
  },
  {
   "cell_type": "markdown",
   "metadata": {},
   "source": [
    "# Отчет\n",
    "\n",
    "## 1. Лучшее качество на исходных признаках: 0.7163757705375227 при С=0.01; Оно в среднем выше качества ГБ (~0.75 против ~0.71) и занимает на  порядок меньше времени (единицы секунд против единиц минут); это связано с тем, что логистическая регрессия является представлителем  линейных методов, которые, как правило, работают гораздо быстрее композиций деревьев. \n",
    "## 2. Удаление категориальных признаков дает улучшение качества в четвертом знаке после запятой:\n",
    "## для исходных данных при C=0.01: 0.7163757705375227;\n",
    "## без категориальных признаков при C=0.01: 0.716408681728097;\n",
    "## Это связано с тем, что исходные категориальные признаки не несут в себе однозначной зависимости, поэтому воспринимаются классификатором как шумовые данные. \n",
    "## 3. В игре существуют 112 различных идентификаторов героев, однако представлены в выборке только 108. \n",
    "## 4. Герои являются важными признаками в игре, поэтому соответствующие им категориальные признаки были преобразованы в более информативные признаки с помощью метода \"мешка слов\". С учетом новых признаков качество значительно улучшилось с 0.716408681728097 до 0.7516522504802192\n",
    "## 5. Минимальное и максимальное значение прогноза лучшего алгоритма:\n",
    "## min: 0.008447702602170981\n",
    "## max: 0.9959849793376752"
   ]
  }
 ],
 "metadata": {
  "kernelspec": {
   "display_name": "Python 3",
   "language": "python",
   "name": "python3"
  },
  "language_info": {
   "codemirror_mode": {
    "name": "ipython",
    "version": 3
   },
   "file_extension": ".py",
   "mimetype": "text/x-python",
   "name": "python",
   "nbconvert_exporter": "python",
   "pygments_lexer": "ipython3",
   "version": "3.7.6"
  }
 },
 "nbformat": 4,
 "nbformat_minor": 2
}
