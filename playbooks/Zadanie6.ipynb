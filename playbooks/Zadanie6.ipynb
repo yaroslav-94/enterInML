{
 "cells": [
  {
   "cell_type": "code",
   "execution_count": 3,
   "metadata": {},
   "outputs": [],
   "source": [
    "import pandas as pd\n",
    "import numpy as np\n",
    "import matplotlib.pyplot as plt\n",
    "import seaborn as sns\n",
    "%matplotlib inline\n",
    "import os.path\n",
    "from scipy.optimize import curve_fit\n",
    "from scipy import interpolate\n",
    "import math\n",
    "import os \n",
    "from tqdm import tqdm_notebook as tqdm\n",
    "from scipy.stats import chisquare\n",
    "import re\n",
    "from datetime import datetime\n",
    "import scipy.stats as stats\n",
    "import time\n",
    "from scipy.stats.stats import pearsonr\n",
    "PI=math.pi\n",
    "from sklearn.tree import DecisionTreeClassifier\n",
    "from sklearn.model_selection import KFold\n",
    "from sklearn.model_selection import cross_val_score\n",
    "from sklearn.neighbors import KNeighborsClassifier\n",
    "from sklearn.preprocessing import scale\n",
    "from sklearn.datasets import load_boston\n",
    "from sklearn.neighbors import KNeighborsRegressor\n",
    "from sklearn.linear_model import Perceptron\n",
    "from sklearn.metrics import accuracy_score\n",
    "from sklearn.preprocessing import StandardScaler\n",
    "from sklearn.svm import SVC\n",
    "from sklearn import datasets\n",
    "from sklearn.feature_extraction.text import TfidfVectorizer\n",
    "from sklearn.grid_search import GridSearchCV\n",
    "from sklearn.metrics import roc_auc_score"
   ]
  },
  {
   "cell_type": "code",
   "execution_count": 43,
   "metadata": {},
   "outputs": [
    {
     "data": {
      "application/vnd.jupyter.widget-view+json": {
       "model_id": "82d698aa1c6a46a1a60de7a71128fe4f",
       "version_major": 2,
       "version_minor": 0
      },
      "text/plain": [
       "HBox(children=(IntProgress(value=0, max=10000), HTML(value='')))"
      ]
     },
     "metadata": {},
     "output_type": "display_data"
    },
    {
     "name": "stdout",
     "output_type": "stream",
     "text": [
      "0.9266666666666666\n"
     ]
    },
    {
     "data": {
      "application/vnd.jupyter.widget-view+json": {
       "model_id": "912fc42ff4c04651869936530edc1285",
       "version_major": 2,
       "version_minor": 0
      },
      "text/plain": [
       "HBox(children=(IntProgress(value=0, max=10000), HTML(value='')))"
      ]
     },
     "metadata": {},
     "output_type": "display_data"
    },
    {
     "name": "stdout",
     "output_type": "stream",
     "text": [
      "0.9370476190476189\n"
     ]
    }
   ],
   "source": [
    "# Отношение шагов дает во столько же раз увеличение по числу итераций 10/7\n",
    "# Увеличение длины шага резко сокращает число итераций\n",
    "# Начальное приближение слобо влияет на результат 2, но довольно сильно на 1\n",
    "new_names =['Main', '1', '2']\n",
    "data = pd.read_csv(r'D:\\works\\data-logistic.csv', names = new_names)\n",
    "#data['Main'].replace(-1, 0, inplace = True)\n",
    "w_1, w_2 = 10, 10\n",
    "w_1_new, w_2_new = 10, 10\n",
    "k = 0.1\n",
    "l = data.shape[0]\n",
    "range_r = 100\n",
    "data.iloc[0,0]\n",
    "num_iter = 0\n",
    "C = 10\n",
    "\n",
    "# без регуляризации\n",
    "for i in tqdm(range(10000)):\n",
    "    w_1_new = w_1_new + k*1/l*sum([ data.iloc[i,0]*data.iloc[i,1]*(1 - 1/(1 + math.exp(-data.iloc[i,0]*(w_1*data.iloc[i,1] + w_2*data.iloc[i,2]))))  for i in range(l)])\n",
    "    w_2_new = w_2_new + k*1/l*sum([ data.iloc[i,0]*data.iloc[i,2]*(1 - 1/(1 + math.exp(-data.iloc[i,0]*(w_1*data.iloc[i,1] + w_2*data.iloc[i,2]))))  for i in range(l)])\n",
    "    range_r = ((w_1_new - w_1)**2 + (w_2_new - w_2)**2)**(1/2)\n",
    "    w_2 = w_2_new\n",
    "    w_1 = w_1_new\n",
    "    if (range_r < 10**(-5)): break\n",
    "a = [1/ (1+math.exp(-w_1*data.iloc[i, 1] - w_2*data.iloc[i,2])) for i in range(l)]\n",
    "print(roc_auc_score(data.iloc[:,0], a))\n",
    "\n",
    "# С регуляризацией\n",
    "for i in tqdm(range(10000)):\n",
    "    w_1_new = w_1_new + k*1/l*sum([ data.iloc[i,0]*data.iloc[i,1]*(1 - 1/(1 + math.exp(-data.iloc[i,0]*(w_1*data.iloc[i,1] + w_2*data.iloc[i,2]))))  for i in range(l)] - k*C*w_1_new)\n",
    "    w_2_new = w_2_new + k*1/l*sum([ data.iloc[i,0]*data.iloc[i,2]*(1 - 1/(1 + math.exp(-data.iloc[i,0]*(w_1*data.iloc[i,1] + w_2*data.iloc[i,2]))))  for i in range(l)] - k*C*w_2_new)\n",
    "    range_r = ((w_1_new - w_1)**2 + (w_2_new - w_2)**2)**(1/2)\n",
    "    w_2 = w_2_new\n",
    "    w_1 = w_1_new\n",
    "    if (range_r < 10**(-5)): break\n",
    "a = [1/ (1+math.exp(-w_1*data.iloc[i, 1] - w_2*data.iloc[i,2])) for i in range(l)]\n",
    "print(roc_auc_score(data.iloc[:,0], a))"
   ]
  },
  {
   "cell_type": "code",
   "execution_count": null,
   "metadata": {},
   "outputs": [],
   "source": []
  }
 ],
 "metadata": {
  "kernelspec": {
   "display_name": "Python 3",
   "language": "python",
   "name": "python3"
  },
  "language_info": {
   "codemirror_mode": {
    "name": "ipython",
    "version": 3
   },
   "file_extension": ".py",
   "mimetype": "text/x-python",
   "name": "python",
   "nbconvert_exporter": "python",
   "pygments_lexer": "ipython3",
   "version": "3.7.1"
  }
 },
 "nbformat": 4,
 "nbformat_minor": 2
}
