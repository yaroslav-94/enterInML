{
 "cells": [
  {
   "cell_type": "code",
   "execution_count": 5,
   "metadata": {},
   "outputs": [],
   "source": [
    "import pandas as pd\n",
    "import numpy as np\n",
    "import matplotlib.pyplot as plt\n",
    "import seaborn as sns\n",
    "%matplotlib inline\n",
    "import os.path\n",
    "from scipy.optimize import curve_fit\n",
    "from scipy import interpolate\n",
    "import math\n",
    "import os \n",
    "from tqdm import tqdm_notebook as tqdm\n",
    "from scipy.stats import chisquare\n",
    "import re\n",
    "from datetime import datetime\n",
    "import scipy.stats as stats\n",
    "import time\n",
    "from scipy.stats.stats import pearsonr\n",
    "PI=math.pi\n",
    "from sklearn.tree import DecisionTreeClassifier\n",
    "from sklearn.model_selection import KFold\n",
    "from sklearn.model_selection import cross_val_score\n",
    "from sklearn.neighbors import KNeighborsClassifier\n",
    "from sklearn.preprocessing import scale\n",
    "from sklearn.datasets import load_boston\n",
    "from sklearn.neighbors import KNeighborsRegressor\n",
    "from sklearn.linear_model import Perceptron\n",
    "from sklearn.metrics import accuracy_score\n",
    "from sklearn.preprocessing import StandardScaler\n",
    "from sklearn.svm import SVC"
   ]
  },
  {
   "cell_type": "code",
   "execution_count": null,
   "metadata": {},
   "outputs": [],
   "source": [
    "#Чтение данных\n",
    "data1 = pd.read_csv(r'D:\\works\\perceptron-train.csv', names = ['Aim', 'A1', 'A2'])\n",
    "data2 = pd.read_csv(r'D:\\works\\perceptron-test.csv', names = ['Aim', 'A1', 'A2'])\n",
    "\n",
    "#Обучение персептона\n",
    "clf = Perceptron(random_state=241)\n",
    "clf.fit(data1[['A1','A2']], data1['Aim'])\n",
    "predictions = clf.predict(data1[['A1','A2']])\n",
    "\n",
    "#Предсказание и реальность от персептона\n",
    "predictions = clf.predict(data2[['A1', 'A2']])\n",
    "z1 = accuracy_score(data2['Aim'], predictions)\n",
    "print(z1)\n",
    "\n",
    "#Использование стандартизации признаков\n",
    "scaler = StandardScaler()\n",
    "X_train = scaler.fit_transform(data1[['A1', 'A2']])\n",
    "X_test  = scaler.transform(data2[['A1', 'A2']])\n",
    "\n",
    "#Обучение персептона\n",
    "clf = Perceptron(random_state=241)\n",
    "clf.fit(X_train, data1['Aim'])\n",
    "predictions = clf.predict(X_train)\n",
    "\n",
    "#Предсказание и реальность от персептона\n",
    "predictions = clf.predict(X_test)\n",
    "z2 = accuracy_score(data2['Aim'], predictions)\n",
    "print(z2)\n",
    "\n",
    "print(z2 - z1)"
   ]
  },
  {
   "cell_type": "code",
   "execution_count": 19,
   "metadata": {},
   "outputs": [
    {
     "name": "stdout",
     "output_type": "stream",
     "text": [
      "[ 4  5 10]\n",
      "[[-10.4526212   18.02446131]]\n"
     ]
    }
   ],
   "source": [
    "data = pd.read_csv(r'D:\\works\\svm-data.csv', names = ['Aim', 'A1', 'A2'])\n",
    "clf = SVC(C = 100000, random_state=241, kernel='linear')\n",
    "z = clf.fit(data[['A1','A2']],data['Aim'])\n",
    "\n",
    "print (clf.support_+1)\n",
    "print(clf.coef_)"
   ]
  },
  {
   "cell_type": "code",
   "execution_count": null,
   "metadata": {},
   "outputs": [],
   "source": []
  }
 ],
 "metadata": {
  "kernelspec": {
   "display_name": "Python 3",
   "language": "python",
   "name": "python3"
  },
  "language_info": {
   "codemirror_mode": {
    "name": "ipython",
    "version": 3
   },
   "file_extension": ".py",
   "mimetype": "text/x-python",
   "name": "python",
   "nbconvert_exporter": "python",
   "pygments_lexer": "ipython3",
   "version": "3.7.1"
  }
 },
 "nbformat": 4,
 "nbformat_minor": 2
}
