{
 "cells": [
  {
   "cell_type": "markdown",
   "metadata": {},
   "source": [
    "# Градиентный бустинг на деревьях"
   ]
  },
  {
   "cell_type": "code",
   "execution_count": 1,
   "metadata": {},
   "outputs": [],
   "source": [
    "import pandas as pd\n",
    "from tqdm import tqdm_notebook as tqdm\n",
    "from sklearn.model_selection import KFold\n",
    "from sklearn.ensemble import GradientBoostingClassifier\n",
    "from sklearn.metrics import roc_auc_score\n",
    "import time\n",
    "import datetime\n",
    "from sklearn.model_selection import cross_val_score\n",
    "from sklearn.preprocessing import StandardScaler"
   ]
  },
  {
   "cell_type": "markdown",
   "metadata": {},
   "source": [
    "## Задание 1-3\n",
    "Считайте таблицу с признаками из файла features.csv с помощью кода, приведенного выше. Удалите признаки, связанные с итогами матча (они помечены в описании данных как отсутствующие в тестовой выборке).\n",
    "\n",
    "Проверьте выборку на наличие пропусков с помощью функции count(), которая для каждого столбца показывает число заполненных значений. Много ли пропусков в данных? Запишите названия признаков, имеющих пропуски, и попробуйте для любых двух из них дать обоснование, почему их значения могут быть пропущены.\n",
    "\n",
    "Замените пропуски на нули с помощью функции fillna(). На самом деле этот способ является предпочтительным для логистической регрессии, поскольку он позволит пропущенному значению не вносить никакого вклада в предсказание. Для деревьев часто лучшим вариантом оказывается замена пропуска на очень большое или очень маленькое значение — в этом случае при построении разбиения вершины можно будет отправить объекты с пропусками в отдельную ветвь дерева. Также есть и другие подходы — например, замена пропуска на среднее значение признака. Мы не требуем этого в задании, но при желании попробуйте разные подходы к обработке пропусков и сравните их между собой."
   ]
  },
  {
   "cell_type": "code",
   "execution_count": null,
   "metadata": {},
   "outputs": [],
   "source": [
    "X_train = pd.read_csv(r\"D:\\works\\features\\features.csv\")\n",
    "X_test.fillna(0, inplace = True)\n",
    "X_train.drop(['radiant_win', 'duration', 'tower_status_radiant','tower_status_dire','barracks_status_radiant',\n",
    "             'barracks_status_dire'], inplace = True, axis = 1)\n",
    "a = X_train.count()\n",
    "for i in range (0,X_train.shape[1]-1,1):\n",
    "    if (a[i]<z): print(a[i:i+1:1])"
   ]
  },
  {
   "cell_type": "markdown",
   "metadata": {},
   "source": [
    "## Список неполностью заполненных значений с указанием реальной обстановки/причины:\n",
    "\n",
    "    first_blood_time               77677   За первые 5 минут не всегда есть первое убийство\n",
    "\n",
    "    first_blood_team               77677   За первые 5 минут не всегда есть первое убийство=> нет всегда такой команды\n",
    "\n",
    "    first_blood_player1            77677   За первые 5 минут не всегда есть первое убийство=> нет всегда и такого игрока\n",
    "\n",
    "    first_blood_player2            53243   За первые 5 минут не всегда есть первое убийство=> а вот помощников еще меньше\n",
    "\n",
    "    radiant_bottle_time            81539   За первые 5 минут не куплен данный предмет рэдиантами\n",
    "\n",
    "    radiant_courier_time           96538   За первые 5 минут не куплен данный предмет рэдиантами\n",
    "\n",
    "    radiant_flying_courier_time    69751   За первые 5 минут не куплен данный предмет рэдиантами\n",
    "\n",
    "    radiant_first_ward_time        95394   За первые 5 минут не куплен/установлен данный предмет рэдиантами\n",
    "\n",
    "    dire_bottle_time               81087   За первые 5 минут не куплен данный предмет даирами\n",
    "\n",
    "    dire_courier_time              96554   За первые 5 минут не куплен данный предмет даирами\n",
    "\n",
    "    dire_flying_courier_time       71132   За первые 5 минут не куплен данный предмет даирами\n",
    "\n",
    "    dire_first_ward_time           95404   За первые 5 минут не куплен данный предмет даирами\n"
   ]
  },
  {
   "cell_type": "markdown",
   "metadata": {},
   "source": [
    "# Задание 4\n",
    "Какой столбец содержит целевую переменную? Запишите его название.\n",
    "\n",
    "Целевая переменная - 'radiant_win'"
   ]
  },
  {
   "cell_type": "markdown",
   "metadata": {},
   "source": [
    "## Задание 5\n",
    "Забудем, что в выборке есть категориальные признаки, и попробуем обучить градиентный бустинг над деревьями на имеющейся матрице \"объекты-признаки\". Зафиксируйте генератор разбиений для кросс-валидации по 5 блокам (KFold), не забудьте перемешать при этом выборку (shuffle=True), поскольку данные в таблице отсортированы по времени, и без перемешивания можно столкнуться с нежелательными эффектами при оценивании качества. Оцените качество градиентного бустинга (GradientBoostingClassifier) с помощью данной кросс-валидации, попробуйте при этом разное количество деревьев (как минимум протестируйте следующие значения для количества деревьев: 10, 20, 30). Долго ли настраивались классификаторы? Достигнут ли оптимум на испытанных значениях параметра n_estimators, или же качество, скорее всего, продолжит расти при дальнейшем его увеличении?\n",
    "\n",
    "### Итог\n",
    "Классификатор настраивается довольно долго. Время настройки растет как функция от времени. Достигнут лимит качества, так как при увеличении числа деревьев качество меняется довольно незначительно. Скорее всего качество будет расти, но вскоре будет достигнут лимит. (возможно, предел находится в районе 65-67 %)"
   ]
  },
  {
   "cell_type": "code",
   "execution_count": 2,
   "metadata": {
    "scrolled": true
   },
   "outputs": [
    {
     "name": "stdout",
     "output_type": "stream",
     "text": [
      "Время для обучения 10 деревьев  0:00:58.612352\n",
      "0.6639352040758942\n",
      "Время для обучения 20 деревьев  0:01:48.171187\n",
      "0.6819333335727756\n",
      "Время для обучения 30 деревьев 0:02:49.859715\n",
      "0.6893852841927302\n"
     ]
    }
   ],
   "source": [
    "X_test = pd.read_csv(r\"D:\\works\\features/features.csv\", index_col='match_id')\n",
    "X_test.fillna(0, inplace = True)\n",
    "y_test = X_test['radiant_win']\n",
    "X_test.drop(['radiant_win', 'duration', 'tower_status_radiant','tower_status_dire','barracks_status_radiant',\n",
    "             'barracks_status_dire'], inplace = True, axis = 1)\n",
    "#scaler = StandardScaler()\n",
    "#X_test = scaler.fit_transform(X_test)\n",
    "# Создание выборки для обучения\n",
    "kf = KFold(n_splits = 5, shuffle=True)\n",
    "kf.split(X_test, y_test)\n",
    "\n",
    "# Градиентный бустинг на деревьях решений\n",
    "start_time = datetime.datetime.now()\n",
    "GBC = GradientBoostingClassifier(n_estimators=10)#,max_depth = 3, learning_rate =0.1 )\n",
    "GBC.fit(X_test, y_test)\n",
    "a = cross_val_score(GBC, X_test, y_test, cv = kf, scoring = 'roc_auc')\n",
    "print( 'Время для обучения 10 деревьев ', datetime.datetime.now() - start_time )\n",
    "print(a.mean())\n",
    "\n",
    "# Градиентный бустинг на деревьях решений\n",
    "start_time = datetime.datetime.now()\n",
    "GBC = GradientBoostingClassifier(n_estimators=20,max_depth = 3)#, learning_rate =0.1)\n",
    "GBC.fit(X_test, y_test)\n",
    "a = cross_val_score(GBC, X_test, y_test, cv = kf, scoring = 'roc_auc')\n",
    "print( 'Время для обучения 20 деревьев ', datetime.datetime.now() - start_time )\n",
    "print(a.mean())\n",
    "\n",
    "# Градиентный бустинг на деревьях решений\n",
    "start_time = datetime.datetime.now()\n",
    "GBC = GradientBoostingClassifier(n_estimators=30,max_depth = 3)#, learning_rate =0.1)\n",
    "GBC.fit(X_test, y_test)\n",
    "a = cross_val_score(GBC, X_test, y_test, cv = kf, scoring = 'roc_auc')\n",
    "print( 'Время для обучения 30 деревьев', datetime.datetime.now() - start_time )\n",
    "print(a.mean())"
   ]
  }
 ],
 "metadata": {
  "kernelspec": {
   "display_name": "Python 3",
   "language": "python",
   "name": "python3"
  },
  "language_info": {
   "codemirror_mode": {
    "name": "ipython",
    "version": 3
   },
   "file_extension": ".py",
   "mimetype": "text/x-python",
   "name": "python",
   "nbconvert_exporter": "python",
   "pygments_lexer": "ipython3",
   "version": "3.6.5"
  }
 },
 "nbformat": 4,
 "nbformat_minor": 2
}
