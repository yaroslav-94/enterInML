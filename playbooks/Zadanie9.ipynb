{
 "cells": [
  {
   "cell_type": "code",
   "execution_count": 21,
   "metadata": {},
   "outputs": [],
   "source": [
    "import pandas as pd\n",
    "import numpy as np\n",
    "%matplotlib inline\n",
    "import os.path\n",
    "from sklearn.decomposition import IncrementalPCA\n",
    "from scipy.stats.stats import pearsonr"
   ]
  },
  {
   "cell_type": "code",
   "execution_count": 95,
   "metadata": {},
   "outputs": [
    {
     "name": "stdout",
     "output_type": "stream",
     "text": [
      "[0.73892531 0.11003496 0.04989187 0.02854979 0.02211184 0.019276\n",
      " 0.0066939  0.0059554  0.00306374 0.00297776]\n",
      "10\n",
      "30\n",
      "V\n"
     ]
    }
   ],
   "source": [
    "ipca = IncrementalPCA(n_components=10)\n",
    "# Обучающая выборка\n",
    "train = pd.read_csv(r\"D:\\works\\close_prices.csv\")\n",
    "del train['date']\n",
    "ipca.fit(train)\n",
    "print(ipca.explained_variance_ratio_)\n",
    "\n",
    "ipca.transform(train)\n",
    "#Тестовая выборка\n",
    "test = pd.read_csv(r\"D:\\works\\djia_index.csv\")\n",
    "\n",
    "pearsonr(ipca.transform(train)[:,0], test['^DJI'])[0]\n",
    "max_corr = 0\n",
    "company = 0\n",
    "for i in range(0,30,1):\n",
    "    if (pearsonr(ipca.transform(train)[:,0], train.iloc[:,i])[0] >  max_corr):\n",
    "        max_corr = pearsonr(ipca.transform(train)[:,0], train.iloc[:,i])[0]\n",
    "        company = i\n",
    "print(list(train.columns.values)[company])        "
   ]
  },
  {
   "cell_type": "code",
   "execution_count": 92,
   "metadata": {
    "scrolled": true
   },
   "outputs": [
    {
     "name": "stdout",
     "output_type": "stream",
     "text": [
      "<class 'pandas.core.frame.DataFrame'>\n"
     ]
    },
    {
     "data": {
      "text/plain": [
       "'BA'"
      ]
     },
     "execution_count": 92,
     "metadata": {},
     "output_type": "execute_result"
    }
   ],
   "source": [
    "print(type(train))\n",
    "list(train.columns.values)[1]"
   ]
  },
  {
   "cell_type": "code",
   "execution_count": 78,
   "metadata": {
    "scrolled": true
   },
   "outputs": [
    {
     "data": {
      "text/plain": [
       "(0.9096590977185377, 5.1232613308512293e-144)"
      ]
     },
     "execution_count": 78,
     "metadata": {},
     "output_type": "execute_result"
    }
   ],
   "source": [
    "#print(ipca.transform(train)[:,0])\n",
    "pearsonr(ipca.transform(train)[:,0], test['^DJI'])"
   ]
  },
  {
   "cell_type": "code",
   "execution_count": 79,
   "metadata": {},
   "outputs": [
    {
     "data": {
      "text/plain": [
       "0      15401.379883\n",
       "1      15334.589844\n",
       "2      15273.259766\n",
       "3      15328.299805\n",
       "4      15258.240234\n",
       "5      15129.669922\n",
       "6      15191.700195\n",
       "7      15133.139648\n",
       "8      14996.480469\n",
       "9      15072.580078\n",
       "10     14936.240234\n",
       "11     14776.530273\n",
       "12     14802.980469\n",
       "13     15126.070312\n",
       "14     15237.110352\n",
       "15     15301.259766\n",
       "16     15168.009766\n",
       "17     15373.830078\n",
       "18     15371.650391\n",
       "19     15399.650391\n",
       "20     15392.200195\n",
       "21     15467.660156\n",
       "22     15413.330078\n",
       "23     15509.209961\n",
       "24     15570.280273\n",
       "25     15568.929688\n",
       "26     15680.349609\n",
       "27     15618.759766\n",
       "28     15545.750000\n",
       "29     15615.549805\n",
       "           ...     \n",
       "344    17673.019531\n",
       "345    17884.880859\n",
       "346    17824.289062\n",
       "347    17729.210938\n",
       "348    17868.759766\n",
       "349    17862.140625\n",
       "350    17972.380859\n",
       "351    18019.349609\n",
       "352    18047.580078\n",
       "353    18029.849609\n",
       "354    17985.769531\n",
       "355    18140.439453\n",
       "356    18116.839844\n",
       "357    18209.189453\n",
       "358    18224.570312\n",
       "359    18214.419922\n",
       "360    18132.699219\n",
       "361    18288.630859\n",
       "362    18203.369141\n",
       "363    18096.900391\n",
       "364    18135.720703\n",
       "365    17856.779297\n",
       "366    17995.720703\n",
       "367    17662.939453\n",
       "368    17635.390625\n",
       "369    17895.220703\n",
       "370    17749.310547\n",
       "371    17977.419922\n",
       "372    17849.080078\n",
       "373    18076.189453\n",
       "Name: ^DJI, Length: 374, dtype: float64"
      ]
     },
     "execution_count": 79,
     "metadata": {},
     "output_type": "execute_result"
    }
   ],
   "source": [
    "test['^DJI']"
   ]
  },
  {
   "cell_type": "code",
   "execution_count": null,
   "metadata": {},
   "outputs": [],
   "source": []
  }
 ],
 "metadata": {
  "kernelspec": {
   "display_name": "Python 3",
   "language": "python",
   "name": "python3"
  },
  "language_info": {
   "codemirror_mode": {
    "name": "ipython",
    "version": 3
   },
   "file_extension": ".py",
   "mimetype": "text/x-python",
   "name": "python",
   "nbconvert_exporter": "python",
   "pygments_lexer": "ipython3",
   "version": "3.6.5"
  }
 },
 "nbformat": 4,
 "nbformat_minor": 2
}
