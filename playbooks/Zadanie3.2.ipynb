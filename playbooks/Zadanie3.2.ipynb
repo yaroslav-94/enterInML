{
 "cells": [
  {
   "cell_type": "code",
   "execution_count": 1,
   "metadata": {},
   "outputs": [],
   "source": [
    "import pandas as pd\n",
    "import numpy as np\n",
    "import matplotlib.pyplot as plt\n",
    "import seaborn as sns\n",
    "%matplotlib inline\n",
    "import os.path\n",
    "from scipy.optimize import curve_fit\n",
    "from scipy import interpolate\n",
    "import math\n",
    "import os \n",
    "from tqdm import tqdm_notebook as tqdm\n",
    "from scipy.stats import chisquare\n",
    "import re\n",
    "from datetime import datetime\n",
    "import scipy.stats as stats\n",
    "import time\n",
    "from scipy.stats.stats import pearsonr\n",
    "PI=math.pi\n",
    "from sklearn.tree import DecisionTreeClassifier\n",
    "from sklearn.model_selection import KFold\n",
    "from sklearn.model_selection import cross_val_score\n",
    "from sklearn.neighbors import KNeighborsClassifier\n",
    "from sklearn.preprocessing import scale\n",
    "from sklearn.datasets import load_boston\n",
    "from sklearn.neighbors import KNeighborsRegressor"
   ]
  },
  {
   "cell_type": "code",
   "execution_count": 12,
   "metadata": {
    "scrolled": true
   },
   "outputs": [
    {
     "data": {
      "application/vnd.jupyter.widget-view+json": {
       "model_id": "005460cb2eaa4928b10b0a80073bea0f",
       "version_major": 2,
       "version_minor": 0
      },
      "text/plain": [
       "HBox(children=(IntProgress(value=0, max=1), HTML(value='')))"
      ]
     },
     "metadata": {},
     "output_type": "display_data"
    },
    {
     "name": "stdout",
     "output_type": "stream",
     "text": [
      "\n",
      "-0.3530464048267693 1.0\n"
     ]
    }
   ],
   "source": [
    "# Чтение данных\n",
    "data = load_boston()\n",
    "y = scale(data['target'])\n",
    "x = data['data']\n",
    "\n",
    "# Создание генератора разбиений\n",
    "kf = KFold(n_splits=5, shuffle=True, random_state=42)\n",
    "kf.split(x, y)\n",
    "\n",
    "#Оценка данных по связи с соседями\n",
    "p = np.linspace(1,10, 200)\n",
    "opt_rez = -100\n",
    "k = 0\n",
    "\n",
    "for i in tqdm(range (1)):\n",
    "    neigh = KNeighborsRegressor(n_neighbors=5, weights='distance', metric ='minkowski', p = p[i])\n",
    "    neigh.fit(x, y) \n",
    "\n",
    "# Вывод данных кросс-валидации\n",
    "    a = cross_val_score(neigh, x, y, cv = kf, scoring='neg_mean_squared_error' )\n",
    "    if (opt_rez < a.mean()):\n",
    "        opt_rez = a.mean()\n",
    "        k = p[i]\n",
    "print(opt_rez, k)\n"
   ]
  },
  {
   "cell_type": "code",
   "execution_count": 11,
   "metadata": {},
   "outputs": [
    {
     "name": "stdout",
     "output_type": "stream",
     "text": [
      "-0.49272397966383413\n"
     ]
    }
   ],
   "source": [
    "print(a.mean())"
   ]
  },
  {
   "cell_type": "code",
   "execution_count": null,
   "metadata": {},
   "outputs": [],
   "source": []
  },
  {
   "cell_type": "code",
   "execution_count": null,
   "metadata": {},
   "outputs": [],
   "source": []
  },
  {
   "cell_type": "code",
   "execution_count": null,
   "metadata": {},
   "outputs": [],
   "source": []
  }
 ],
 "metadata": {
  "kernelspec": {
   "display_name": "Python 3",
   "language": "python",
   "name": "python3"
  },
  "language_info": {
   "codemirror_mode": {
    "name": "ipython",
    "version": 3
   },
   "file_extension": ".py",
   "mimetype": "text/x-python",
   "name": "python",
   "nbconvert_exporter": "python",
   "pygments_lexer": "ipython3",
   "version": "3.6.5"
  }
 },
 "nbformat": 4,
 "nbformat_minor": 2
}
