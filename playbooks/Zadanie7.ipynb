{
 "cells": [
  {
   "cell_type": "code",
   "execution_count": 16,
   "metadata": {},
   "outputs": [],
   "source": [
    "import pandas as pd\n",
    "import numpy as np\n",
    "import matplotlib.pyplot as plt\n",
    "import seaborn as sns\n",
    "%matplotlib inline\n",
    "import os.path\n",
    "from scipy.optimize import curve_fit\n",
    "from scipy import interpolate\n",
    "import math\n",
    "import os \n",
    "from tqdm import tqdm_notebook as tqdm\n",
    "from scipy.stats import chisquare\n",
    "import re\n",
    "from datetime import datetime\n",
    "import scipy.stats as stats\n",
    "import time\n",
    "from scipy.stats.stats import pearsonr\n",
    "PI=math.pi\n",
    "from sklearn.tree import DecisionTreeClassifier\n",
    "from sklearn.model_selection import KFold\n",
    "from sklearn.model_selection import cross_val_score\n",
    "from sklearn.neighbors import KNeighborsClassifier\n",
    "from sklearn.preprocessing import scale\n",
    "from sklearn.datasets import load_boston\n",
    "from sklearn.neighbors import KNeighborsRegressor\n",
    "from sklearn.linear_model import Perceptron\n",
    "from sklearn.metrics import accuracy_score\n",
    "from sklearn.preprocessing import StandardScaler\n",
    "from sklearn.svm import SVC\n",
    "from sklearn import datasets\n",
    "from sklearn.feature_extraction.text import TfidfVectorizer\n",
    "from sklearn.grid_search import GridSearchCV\n",
    "from sklearn.metrics import roc_auc_score\n",
    "from sklearn.metrics import precision_score\n",
    "from sklearn.metrics import recall_score\n",
    "from sklearn.metrics import f1_score\n",
    "from sklearn.metrics import precision_recall_curve"
   ]
  },
  {
   "cell_type": "code",
   "execution_count": 11,
   "metadata": {
    "scrolled": false
   },
   "outputs": [
    {
     "name": "stderr",
     "output_type": "stream",
     "text": [
      "C:\\Users\\User\\Anaconda3\\lib\\site-packages\\ipykernel_launcher.py:3: UserWarning: Boolean Series key will be reindexed to match DataFrame index.\n",
      "  This is separate from the ipykernel package so we can avoid doing imports until\n",
      "C:\\Users\\User\\Anaconda3\\lib\\site-packages\\ipykernel_launcher.py:4: UserWarning: Boolean Series key will be reindexed to match DataFrame index.\n",
      "  after removing the cwd from sys.path.\n",
      "C:\\Users\\User\\Anaconda3\\lib\\site-packages\\ipykernel_launcher.py:5: UserWarning: Boolean Series key will be reindexed to match DataFrame index.\n",
      "  \"\"\"\n",
      "C:\\Users\\User\\Anaconda3\\lib\\site-packages\\ipykernel_launcher.py:6: UserWarning: Boolean Series key will be reindexed to match DataFrame index.\n",
      "  \n"
     ]
    },
    {
     "name": "stdout",
     "output_type": "stream",
     "text": [
      "43 34 59 64\n",
      "0.535\n",
      "0.5584415584415584\n",
      "0.4215686274509804\n",
      "0.48044692737430167\n"
     ]
    }
   ],
   "source": [
    "data = pd.read_csv(r'D:\\works\\classification.csv')\n",
    "data\n",
    "TP = data[data['true'] == 1][data['pred']==1].shape[0]\n",
    "FP = data[data['true'] == 0][data['pred']==1].shape[0]\n",
    "FN = data[data['true'] == 1][data['pred']==0].shape[0]\n",
    "TN = data[data['true'] == 0][data['pred']==0].shape[0]\n",
    "print(TP, FP, FN, TN, sep = ' ')\n",
    "\n",
    "#Accuracy (доля верно угаданных) — sklearn.metrics.accuracy_score\n",
    "print( accuracy_score(data['true'], data['pred']) )\n",
    "\n",
    "#Precision (точность) — sklearn.metrics.precision_score\n",
    "print( precision_score(data['true'], data['pred']) )\n",
    "\n",
    "#Recall (полнота) — sklearn.metrics.recall_score\n",
    "print( recall_score(data['true'], data['pred']) )\n",
    "\n",
    "#F-мера — sklearn.metrics.f1_score\n",
    "print( f1_score(data['true'], data['pred']) )\n"
   ]
  },
  {
   "cell_type": "code",
   "execution_count": 18,
   "metadata": {
    "scrolled": true
   },
   "outputs": [
    {
     "name": "stdout",
     "output_type": "stream",
     "text": [
      "0.719187675070028\n",
      "0.7086834733893557\n",
      "0.6351540616246498\n",
      "0.6919267707082833\n"
     ]
    },
    {
     "data": {
      "text/plain": [
       "198"
      ]
     },
     "execution_count": 18,
     "metadata": {},
     "output_type": "execute_result"
    }
   ],
   "source": [
    "data1 = pd.read_csv(r'D:\\works\\scores.csv')\n",
    "data1\n",
    "# ROC AUC score для каждого столбца\n",
    "# Столбец первый\n",
    "print( roc_auc_score(data1['true'], data1['score_logreg']) )\n",
    "\n",
    "# Столбец второй\n",
    "print( roc_auc_score(data1['true'], data1['score_svm']) )\n",
    "\n",
    "# Столбец третий\n",
    "print( roc_auc_score(data1['true'], data1['score_knn']) )\n",
    "\n",
    "# Столбец четвертый\n",
    "print( roc_auc_score(data1['true'], data1['score_tree']) )\n",
    "\n",
    "# Наибольшая точность классификатора при полноте не меньше 70%\n",
    "precision, recall, thresholds = precision_recall_curve(data1['true'], data1['score_logreg'])\n",
    "precision_max = 0\n",
    "classiff = ''\n",
    "for j in range (1,5,1):\n",
    "    precision, recall, thresholds = precision_recall_curve(data1['true'], data1.ilo['score_logreg'])\n",
    "    for i in range(len(precision)):\n",
    "        if (recall[i]>0.7) and (precision[i]>precision_max):\n",
    "            precision_max = precision[i]\n",
    "            classiff = data1.columns.values.tolist()[j]\n",
    "len(precision)"
   ]
  },
  {
   "cell_type": "code",
   "execution_count": 20,
   "metadata": {},
   "outputs": [
    {
     "data": {
      "text/plain": [
       "'score_logreg'"
      ]
     },
     "execution_count": 20,
     "metadata": {},
     "output_type": "execute_result"
    }
   ],
   "source": [
    "data1.columns.values.tolist()[1]\n"
   ]
  },
  {
   "cell_type": "code",
   "execution_count": 22,
   "metadata": {
    "scrolled": true
   },
   "outputs": [
    {
     "data": {
      "text/plain": [
       "0      0.683832\n",
       "1      0.801966\n",
       "2      0.382315\n",
       "3      0.506797\n",
       "4      0.488781\n",
       "5      0.108506\n",
       "6      0.413749\n",
       "7      0.961081\n",
       "8      0.055733\n",
       "9      0.168708\n",
       "10     0.504716\n",
       "11     0.700781\n",
       "12     0.310665\n",
       "13     0.784460\n",
       "14     0.160733\n",
       "15     0.799574\n",
       "16     0.582998\n",
       "17     0.814842\n",
       "18     0.157332\n",
       "19     0.931500\n",
       "20     0.138797\n",
       "21     0.274198\n",
       "22     0.720033\n",
       "23     0.843546\n",
       "24     0.609126\n",
       "25     0.880773\n",
       "26     0.239080\n",
       "27     0.305787\n",
       "28     0.543229\n",
       "29     0.074923\n",
       "         ...   \n",
       "170    0.963559\n",
       "171    0.358193\n",
       "172    0.728585\n",
       "173    0.956966\n",
       "174    0.921236\n",
       "175    0.488522\n",
       "176    0.634594\n",
       "177    0.212360\n",
       "178    0.546161\n",
       "179    0.816888\n",
       "180    0.936342\n",
       "181    0.345238\n",
       "182    0.775077\n",
       "183    0.784289\n",
       "184    0.391728\n",
       "185    0.446609\n",
       "186    0.369691\n",
       "187    0.373856\n",
       "188    0.101603\n",
       "189    0.592363\n",
       "190    0.282557\n",
       "191    0.850252\n",
       "192    0.563431\n",
       "193    0.255245\n",
       "194    0.903727\n",
       "195    0.573801\n",
       "196    0.624422\n",
       "197    0.425538\n",
       "198    0.905270\n",
       "199    0.275594\n",
       "Name: score_logreg, Length: 200, dtype: float64"
      ]
     },
     "execution_count": 22,
     "metadata": {},
     "output_type": "execute_result"
    }
   ],
   "source": [
    "data1.iloc[:,1]"
   ]
  }
 ],
 "metadata": {
  "kernelspec": {
   "display_name": "Python 3",
   "language": "python",
   "name": "python3"
  },
  "language_info": {
   "codemirror_mode": {
    "name": "ipython",
    "version": 3
   },
   "file_extension": ".py",
   "mimetype": "text/x-python",
   "name": "python",
   "nbconvert_exporter": "python",
   "pygments_lexer": "ipython3",
   "version": "3.6.5"
  }
 },
 "nbformat": 4,
 "nbformat_minor": 2
}
