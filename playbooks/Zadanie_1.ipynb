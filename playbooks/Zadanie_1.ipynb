{
 "cells": [
  {
   "cell_type": "markdown",
   "metadata": {},
   "source": [
    "## Задание 1."
   ]
  },
  {
   "cell_type": "code",
   "execution_count": null,
   "metadata": {},
   "outputs": [],
   "source": [
    "import numpy as np\n",
    "A = np.random.randint(-400,400,1000)\n",
    "index = 0\n",
    "# Поиск минимального элемента, который не входит в массив\n",
    "for i in range(A.min(),A.max(),1):\n",
    "    if len( np.where(A == i)[0] )==0:\n",
    "        print('Минимальный не входящий элемент %s' %i)\n",
    "        index+=1\n",
    "        break\n",
    "#Все элемнты последовательны\n",
    "if index==0: print('Нет такого элемента')  \n",
    "\n",
    "# Поиск максимального элемента, который не входит в массив      \n",
    "for i in range(A.max(),A.min(),-1):\n",
    "    if len( np.where(A == i)[0] )==0:\n",
    "        print('Максимальный не входящий элемент %s'%i)\n",
    "        break\n",
    "if index==0: print('Нет такого элемента')  \n",
    "    \n",
    "# Поиск длинной последовательности \n",
    "#по возрастанию\n",
    "fl = 0\n",
    "indexes = np.array([0,0,0,0])\n",
    "for i in range(0,len(A)-2,1):\n",
    "    if ((A[i] == A[i+1]-1) and (fl==0)):\n",
    "        indexes[0] = i+1\n",
    "        indexes[1] = i\n",
    "        fl = 1\n",
    "    elif ((A[i] == A[i+1]-1) and (fl==1)):\n",
    "        indexes[0] = i+1\n",
    "        \n",
    "    elif (A[i] != A[i+1]-1): \n",
    "        fl = 0\n",
    "        \n",
    "    if (indexes[0] - indexes[1])>(indexes[2] - indexes[3]):\n",
    "        indexes[2] = indexes[0]\n",
    "        indexes[3] = indexes[1]\n",
    "#По убыванию\n",
    "for i in range(0,len(A)-2,1):\n",
    "    if ((A[i]-1 == A[i+1]) and (fl==0)):\n",
    "        indexes[0] = i+1\n",
    "        indexes[1] = i\n",
    "        fl = 1\n",
    "    elif ((A[i]-1 == A[i+1]) and (fl==1)):\n",
    "        indexes[0] = i+1\n",
    "        \n",
    "    elif (A[i]-1 != A[i+1]): \n",
    "        fl = 0\n",
    "        \n",
    "    if (indexes[0] - indexes[1])>(indexes[2] - indexes[3]):\n",
    "        indexes[2] = indexes[0]\n",
    "        indexes[3] = indexes[1]          \n",
    "           \n",
    "print('Последовательность максимальной длины ', A[indexes[3]:indexes[2]+1:1])"
   ]
  },
  {
   "cell_type": "markdown",
   "metadata": {},
   "source": [
    "## Задание 2\n",
    "double - формат хранения чисел, при котором выделяется 8 байт на число\n",
    "decimal - формат хранения чисел, при котором пользователь сам задает размер выделяемой памяти, что удобно для хранения числа с большой точностью.\n",
    "\n",
    "Хотя для самой большой точности достаточно примерно 40 цифр, что соответствует примерно 20 байтам, что ведет к созданию такого цифрового гиганта (https://habr.com/post/391889/ - ссылка на самое большое теоретически используемое число). Однако есть еще и бухгалтерская отчетность, в которой тоже нужны гиганты, правда чуть поменьше.\n"
   ]
  },
  {
   "cell_type": "markdown",
   "metadata": {},
   "source": [
    "### Пожелания\n",
    "Я бы хотел найти свою применимость в вашей фирме по направлению машинного обучения. \n",
    "\n",
    "Есть некоторые успехи в этом направлении: \n",
    "\"Курс Введение в машинное обучение от университета National Research University Higher School of Economics & Yandex School of Data Analysis на Coursera\"\n",
    "(https://www.coursera.org/account/accomplishments/certificate/7SC5D8AUCZUR)"
   ]
  }
 ],
 "metadata": {
  "kernelspec": {
   "display_name": "Python 3",
   "language": "python",
   "name": "python3"
  },
  "language_info": {
   "codemirror_mode": {
    "name": "ipython",
    "version": 3
   },
   "file_extension": ".py",
   "mimetype": "text/x-python",
   "name": "python",
   "nbconvert_exporter": "python",
   "pygments_lexer": "ipython3",
   "version": "3.7.1"
  }
 },
 "nbformat": 4,
 "nbformat_minor": 2
}
