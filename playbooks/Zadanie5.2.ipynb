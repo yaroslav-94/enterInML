{
 "cells": [
  {
   "cell_type": "code",
   "execution_count": 4,
   "metadata": {},
   "outputs": [],
   "source": [
    "import pandas as pd\n",
    "import numpy as np\n",
    "import matplotlib.pyplot as plt\n",
    "import seaborn as sns\n",
    "%matplotlib inline\n",
    "import os.path\n",
    "from scipy.optimize import curve_fit\n",
    "from scipy import interpolate\n",
    "import math\n",
    "import os \n",
    "from tqdm import tqdm_notebook as tqdm\n",
    "from scipy.stats import chisquare\n",
    "import re\n",
    "from datetime import datetime\n",
    "import scipy.stats as stats\n",
    "import time\n",
    "from scipy.stats.stats import pearsonr\n",
    "PI=math.pi\n",
    "from sklearn.tree import DecisionTreeClassifier\n",
    "from sklearn.model_selection import KFold\n",
    "from sklearn.model_selection import cross_val_score\n",
    "from sklearn.neighbors import KNeighborsClassifier\n",
    "from sklearn.preprocessing import scale\n",
    "from sklearn.datasets import load_boston\n",
    "from sklearn.neighbors import KNeighborsRegressor\n",
    "from sklearn.linear_model import Perceptron\n",
    "from sklearn.metrics import accuracy_score\n",
    "from sklearn.preprocessing import StandardScaler\n",
    "from sklearn.svm import SVC\n",
    "from sklearn import datasets\n",
    "from sklearn.feature_extraction.text import TfidfVectorizer\n",
    "from sklearn.grid_search import GridSearchCV"
   ]
  },
  {
   "cell_type": "code",
   "execution_count": 2,
   "metadata": {
    "scrolled": true
   },
   "outputs": [
    {
     "name": "stdout",
     "output_type": "stream",
     "text": [
      "atheism atheists bible god keith moon nick religion sky space "
     ]
    },
    {
     "data": {
      "text/plain": [
       "[None, None, None, None, None, None, None, None, None, None]"
      ]
     },
     "execution_count": 2,
     "metadata": {},
     "output_type": "execute_result"
    }
   ],
   "source": [
    "newsgroups = datasets.fetch_20newsgroups(\n",
    "                    subset='all', \n",
    "                    categories=['alt.atheism', 'sci.space']\n",
    "             )\n",
    "\n",
    "# Создание текстов и соответствующих значений\n",
    "X = newsgroups.data\n",
    "y = newsgroups.target\n",
    "\n",
    "# Преобразование слов в матрицу. Взвешанная матрица по вхождениям. Получение имен из матрицы\n",
    "vectorizer = TfidfVectorizer()\n",
    "X_test = vectorizer.fit_transform(X)\n",
    "features = vectorizer.get_feature_names()\n",
    "\n",
    "# Задание вектора коэффициентов\n",
    "grid = {'C': np.power(10.0, np.arange(-5, 6))}\n",
    "\n",
    "# Создание выборки для обучения\n",
    "kf = KFold(n_splits = 5, shuffle=True, random_state=241)\n",
    "kf.split(X_test, y)\n",
    "clf = SVC(kernel='linear', random_state=241)\n",
    "gs = GridSearchCV(clf, grid, scoring='accuracy')\n",
    "gs.fit(X_test, y)\n",
    "\n",
    "# Получение лучшего значения для обучения\n",
    "C_new = gs.best_params_['C']\n",
    "\n",
    "# Использование лучшего значения\n",
    "X_test = vectorizer.transform(newsgroups.data)\n",
    "y = newsgroups.target\n",
    "clf = SVC(kernel='linear', random_state=241, C = C_new)\n",
    "clf.fit(X_test, y)\n",
    "\n",
    "# Вывод данных\n",
    "m = clf.coef_\n",
    "a = np.array([ m[0,i] for i in range (0, m.shape[1], 1) ])\n",
    "a = np.argsort(abs(a))[-10:]\n",
    "x = sorted([features[a[i]] for  i in range (0,10,1)])\n",
    "[print(x[i], end = ' ') for i in range(0,10,1)]"
   ]
  },
  {
   "cell_type": "code",
   "execution_count": 6,
   "metadata": {},
   "outputs": [
    {
     "name": "stdout",
     "output_type": "stream",
     "text": [
      "[0 0 1 ... 1 1 0]\n"
     ]
    }
   ],
   "source": [
    "print(y)"
   ]
  }
 ],
 "metadata": {
  "kernelspec": {
   "display_name": "Python 3",
   "language": "python",
   "name": "python3"
  },
  "language_info": {
   "codemirror_mode": {
    "name": "ipython",
    "version": 3
   },
   "file_extension": ".py",
   "mimetype": "text/x-python",
   "name": "python",
   "nbconvert_exporter": "python",
   "pygments_lexer": "ipython3",
   "version": "3.7.1"
  }
 },
 "nbformat": 4,
 "nbformat_minor": 2
}
