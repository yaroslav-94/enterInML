{
 "cells": [
  {
   "cell_type": "code",
   "execution_count": 1,
   "metadata": {},
   "outputs": [],
   "source": [
    "import pandas as pd\n",
    "import numpy as np\n",
    "import matplotlib.pyplot as plt\n",
    "import seaborn as sns\n",
    "%matplotlib inline\n",
    "import os.path\n",
    "from scipy.optimize import curve_fit\n",
    "from scipy import interpolate\n",
    "import math\n",
    "import os \n",
    "from tqdm import tqdm_notebook as tqdm\n",
    "from scipy.stats import chisquare\n",
    "import re\n",
    "from datetime import datetime\n",
    "import scipy.stats as stats\n",
    "import time\n",
    "from scipy.stats.stats import pearsonr\n",
    "PI=math.pi\n",
    "from sklearn.tree import DecisionTreeClassifier\n",
    "from sklearn.model_selection import KFold\n",
    "from sklearn.model_selection import cross_val_score\n",
    "from sklearn.neighbors import KNeighborsClassifier\n",
    "from sklearn.preprocessing import scale\n",
    "from sklearn.datasets import load_boston\n",
    "from sklearn.neighbors import KNeighborsRegressor\n",
    "from sklearn.linear_model import Perceptron\n",
    "from sklearn.metrics import accuracy_score\n",
    "from sklearn.preprocessing import StandardScaler"
   ]
  },
  {
   "cell_type": "code",
   "execution_count": 8,
   "metadata": {},
   "outputs": [
    {
     "name": "stdout",
     "output_type": "stream",
     "text": [
      "178\n",
      "<generator object _BaseKFold.split at 0x08AECCF0>\n"
     ]
    }
   ],
   "source": [
    "new_names=['Canary', 'Alcohol', 'Malic_acid', 'Ash', 'Alcalinity_of_ash', 'Magnesium', 'Total_phenols','Flavanoids', \n",
    "           'Nonflavanoid_phenols', 'Proanthocyanins', 'Color_intensity', 'Hue', 'OD280/OD315_of_diluted_wines', 'Proline']\n",
    "data = pd.read_csv(r'D:\\works\\wine.data',names=new_names)\n",
    "\n",
    "X = data['Canary']\n",
    "y = data[['Alcohol', 'Malic_acid', 'Ash', 'Alcalinity_of_ash', 'Magnesium', 'Total_phenols','Flavanoids', \n",
    "           'Nonflavanoid_phenols', 'Proanthocyanins', 'Color_intensity', 'Hue', 'OD280/OD315_of_diluted_wines', 'Proline']]\n",
    "print(len(X))\n",
    "kf = KFold(n_splits=5, shuffle=True, random_state=42)\n",
    "kf.split(X, y)\n",
    "print(kf.split(X))"
   ]
  },
  {
   "cell_type": "code",
   "execution_count": null,
   "metadata": {},
   "outputs": [],
   "source": [
    "# Чтение данных\n",
    "data1 = pd.read_csv(r'D:\\works\\wine.data',names=new_names)\n",
    "data2 = pd.read_csv(r'D:\\works\\wine.data',names=new_names)\n",
    "\n",
    "X = data['Canary']\n",
    "y = data[['Alcohol', 'Malic_acid', 'Ash', 'Alcalinity_of_ash', 'Magnesium', 'Total_phenols','Flavanoids', \n",
    "           'Nonflavanoid_phenols', 'Proanthocyanins', 'Color_intensity', 'Hue', 'OD280/OD315_of_diluted_wines', 'Proline']]\n",
    "\n",
    "# Создание генератора разбиений\n",
    "kf = KFold(n_splits=5, shuffle=True, random_state=42)\n",
    "kf.split(X, y)\n",
    "\n",
    "# Число соседей от 1 до 50\n",
    "opt_rez = 0\n",
    "k=0\n",
    "for i in range(1,51,1):\n",
    "    \n",
    "# Оценка данных по связи с соседями\n",
    "    neigh = KNeighborsClassifier(n_neighbors=i)\n",
    "    neigh.fit(y, X) \n",
    "    \n",
    "# Вывод данных кросс-валидации\n",
    "    a = cross_val_score(neigh, y, X)\n",
    "    \n",
    "    if ( opt_rez < (a[0]+a[1]+a[2])/3 ): \n",
    "        opt_rez = (a[0]+a[1]+a[2])/3\n",
    "        k = i\n",
    "print(opt_rez, k)   \n",
    "\n",
    "data = scale(data)"
   ]
  },
  {
   "cell_type": "code",
   "execution_count": null,
   "metadata": {},
   "outputs": [],
   "source": [
    "# Чтение данных\n",
    "new_names=['Canary', 'Alcohol', 'Malic_acid', 'Ash', 'Alcalinity_of_ash', 'Magnesium', 'Total_phenols','Flavanoids', \n",
    "           'Nonflavanoid_phenols', 'Proanthocyanins', 'Color_intensity', 'Hue', 'OD280/OD315_of_diluted_wines', 'Proline']\n",
    "data = pd.read_csv(r'D:\\works\\wine.data',names=new_names)\n",
    "\n",
    "X = data['Canary']\n",
    "y = data[['Alcohol', 'Malic_acid', 'Ash', 'Alcalinity_of_ash', 'Magnesium', 'Total_phenols','Flavanoids', \n",
    "           'Nonflavanoid_phenols', 'Proanthocyanins', 'Color_intensity', 'Hue', 'OD280/OD315_of_diluted_wines', 'Proline']]\n",
    "y = scale(y)\n",
    "\n",
    "# Создание генератора разбиений\n",
    "kf = KFold(n_splits=5, shuffle=True, random_state=42)\n",
    "kf.split(X, y)\n",
    "\n",
    "# Число соседей от 1 до 50\n",
    "opt_rez = 0\n",
    "k=0\n",
    "for i in range(1,51,1):\n",
    "    \n",
    "# Оценка данных по связи с соседями\n",
    "    neigh = KNeighborsClassifier(n_neighbors=i)\n",
    "    neigh.fit(y, X) \n",
    "    \n",
    "# Вывод данных кросс-валидации\n",
    "    a = cross_val_score(neigh, y, X, cv = kf)\n",
    "    \n",
    "    if ( opt_rez < (a[0]+a[1]+a[2])/3 ): \n",
    "        opt_rez = (a[0]+a[1]+a[2])/3\n",
    "        k = i\n",
    "print(opt_rez, k)   "
   ]
  },
  {
   "cell_type": "code",
   "execution_count": 18,
   "metadata": {},
   "outputs": [
    {
     "name": "stderr",
     "output_type": "stream",
     "text": [
      "C:\\Users\\User\\Anaconda3\\lib\\site-packages\\sklearn\\linear_model\\stochastic_gradient.py:128: FutureWarning: max_iter and tol parameters have been added in <class 'sklearn.linear_model.perceptron.Perceptron'> in 0.19. If both are left unset, they default to max_iter=5 and tol=None. If tol is not None, max_iter defaults to max_iter=1000. From 0.21, default max_iter will be 1000, and default tol will be 1e-3.\n",
      "  \"and default tol will be 1e-3.\" % type(self), FutureWarning)\n"
     ]
    },
    {
     "name": "stdout",
     "output_type": "stream",
     "text": [
      "0.655\n",
      "0.845\n",
      "0.18999999999999995\n"
     ]
    }
   ],
   "source": [
    "#Чтение данных\n",
    "data1 = pd.read_csv(r'D:\\works\\perceptron-train.csv', names = ['Aim', 'A1', 'A2'])\n",
    "data2 = pd.read_csv(r'D:\\works\\perceptron-test.csv', names = ['Aim', 'A1', 'A2'])\n",
    "\n",
    "#Обучение персептона\n",
    "clf = Perceptron(random_state=241)\n",
    "clf.fit(data1[['A1','A2']], data1['Aim'])\n",
    "predictions = clf.predict(data1[['A1','A2']])\n",
    "\n",
    "#Предсказание и реальность от персептона\n",
    "predictions = clf.predict(data2[['A1', 'A2']])\n",
    "z1 = accuracy_score(data2['Aim'], predictions)\n",
    "print(z1)\n",
    "\n",
    "#Использование стандартизации признаков\n",
    "scaler = StandardScaler()\n",
    "X_train = scaler.fit_transform(data1[['A1', 'A2']])\n",
    "X_test  = scaler.transform(data2[['A1', 'A2']])\n",
    "\n",
    "#Обучение персептона\n",
    "clf = Perceptron(random_state=241)\n",
    "clf.fit(X_train, data1['Aim'])\n",
    "predictions = clf.predict(X_train)\n",
    "\n",
    "#Предсказание и реальность от персептона\n",
    "predictions = clf.predict(X_test)\n",
    "z2 = accuracy_score(data2['Aim'], predictions)\n",
    "print(z2)\n",
    "\n",
    "print(z2 - z1)"
   ]
  }
 ],
 "metadata": {
  "kernelspec": {
   "display_name": "Python 3",
   "language": "python",
   "name": "python3"
  },
  "language_info": {
   "codemirror_mode": {
    "name": "ipython",
    "version": 3
   },
   "file_extension": ".py",
   "mimetype": "text/x-python",
   "name": "python",
   "nbconvert_exporter": "python",
   "pygments_lexer": "ipython3",
   "version": "3.6.5"
  }
 },
 "nbformat": 4,
 "nbformat_minor": 2
}
