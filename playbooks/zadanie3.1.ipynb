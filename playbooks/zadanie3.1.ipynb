{
 "cells": [
  {
   "cell_type": "code",
   "execution_count": 1,
   "metadata": {},
   "outputs": [],
   "source": [
    "import pandas as pd\n",
    "import numpy as np\n",
    "import matplotlib.pyplot as plt\n",
    "import seaborn as sns\n",
    "%matplotlib inline\n",
    "import os.path\n",
    "from scipy.optimize import curve_fit\n",
    "from scipy import interpolate\n",
    "import math\n",
    "import os \n",
    "from tqdm import tqdm_notebook as tqdm\n",
    "from scipy.stats import chisquare\n",
    "import re\n",
    "from datetime import datetime\n",
    "import scipy.stats as stats\n",
    "import time\n",
    "from scipy.stats.stats import pearsonr\n",
    "PI=math.pi\n",
    "from sklearn.tree import DecisionTreeClassifier\n",
    "from sklearn.model_selection import KFold\n",
    "from sklearn.model_selection import cross_val_score\n",
    "from sklearn.neighbors import KNeighborsClassifier\n",
    "from sklearn.preprocessing import scale"
   ]
  },
  {
   "cell_type": "code",
   "execution_count": 5,
   "metadata": {},
   "outputs": [
    {
     "name": "stdout",
     "output_type": "stream",
     "text": [
      "0.7199233716475096 1\n"
     ]
    }
   ],
   "source": [
    "# Чтение данных\n",
    "new_names=['Canary', 'Alcohol', 'Malic_acid', 'Ash', 'Alcalinity_of_ash', 'Magnesium', 'Total_phenols','Flavanoids', \n",
    "           'Nonflavanoid_phenols', 'Proanthocyanins', 'Color_intensity', 'Hue', 'OD280/OD315_of_diluted_wines', 'Proline']\n",
    "data = pd.read_csv(r'D:\\works\\wine.data',names=new_names)\n",
    "\n",
    "X = data['Canary']\n",
    "y = data[['Alcohol', 'Malic_acid', 'Ash', 'Alcalinity_of_ash', 'Magnesium', 'Total_phenols','Flavanoids', \n",
    "           'Nonflavanoid_phenols', 'Proanthocyanins', 'Color_intensity', 'Hue', 'OD280/OD315_of_diluted_wines', 'Proline']]\n",
    "\n",
    "# Создание генератора разбиений\n",
    "kf = KFold(n_splits=5, shuffle=True, random_state=42)\n",
    "kf.split(X, y)\n",
    "\n",
    "# Число соседей от 1 до 50\n",
    "opt_rez = 0\n",
    "k=0\n",
    "for i in range(1,51,1):\n",
    "    \n",
    "# Оценка данных по связи с соседями\n",
    "    neigh = KNeighborsClassifier(n_neighbors=i)\n",
    "    neigh.fit(y, X) \n",
    "    \n",
    "# Вывод данных кросс-валидации\n",
    "    a = cross_val_score(neigh, y, X)\n",
    "    \n",
    "    if ( opt_rez < a.mean() ): \n",
    "        opt_rez = a.mean()\n",
    "        k = i\n",
    "print(opt_rez, k)   \n",
    "\n",
    "data = scale(data)"
   ]
  },
  {
   "cell_type": "code",
   "execution_count": 4,
   "metadata": {},
   "outputs": [
    {
     "data": {
      "text/plain": [
       "3"
      ]
     },
     "execution_count": 4,
     "metadata": {},
     "output_type": "execute_result"
    }
   ],
   "source": [
    "a.shape[0]"
   ]
  },
  {
   "cell_type": "code",
   "execution_count": 167,
   "metadata": {},
   "outputs": [
    {
     "name": "stdout",
     "output_type": "stream",
     "text": [
      "0.9722222222222222 29\n"
     ]
    }
   ],
   "source": [
    "# Чтение данных\n",
    "new_names=['Canary', 'Alcohol', 'Malic_acid', 'Ash', 'Alcalinity_of_ash', 'Magnesium', 'Total_phenols','Flavanoids', \n",
    "           'Nonflavanoid_phenols', 'Proanthocyanins', 'Color_intensity', 'Hue', 'OD280/OD315_of_diluted_wines', 'Proline']\n",
    "data = pd.read_csv(r'D:\\works\\wine.data',names=new_names)\n",
    "\n",
    "X = data['Canary']\n",
    "y = data[['Alcohol', 'Malic_acid', 'Ash', 'Alcalinity_of_ash', 'Magnesium', 'Total_phenols','Flavanoids', \n",
    "           'Nonflavanoid_phenols', 'Proanthocyanins', 'Color_intensity', 'Hue', 'OD280/OD315_of_diluted_wines', 'Proline']]\n",
    "y = scale(y)\n",
    "# Создание генератора разбиений\n",
    "kf = KFold(n_splits=5, shuffle=True, random_state=42)\n",
    "kf.split(X, y)\n",
    "\n",
    "# Число соседей от 1 до 50\n",
    "opt_rez = 0\n",
    "k=0\n",
    "for i in range(1,51,1):\n",
    "    \n",
    "# Оценка данных по связи с соседями\n",
    "    neigh = KNeighborsClassifier(n_neighbors=i)\n",
    "    neigh.fit(y, X) \n",
    "    \n",
    "# Вывод данных кросс-валидации\n",
    "    a = cross_val_score(neigh, y, X, cv = kf)\n",
    "    \n",
    "    if ( opt_rez < (a[0]+a[1]+a[2])/3 ): \n",
    "        opt_rez = (a[0]+a[1]+a[2])/3\n",
    "        k = i\n",
    "print(opt_rez, k)   \n",
    "\n"
   ]
  }
 ],
 "metadata": {
  "kernelspec": {
   "display_name": "Python 3",
   "language": "python",
   "name": "python3"
  },
  "language_info": {
   "codemirror_mode": {
    "name": "ipython",
    "version": 3
   },
   "file_extension": ".py",
   "mimetype": "text/x-python",
   "name": "python",
   "nbconvert_exporter": "python",
   "pygments_lexer": "ipython3",
   "version": "3.6.5"
  }
 },
 "nbformat": 4,
 "nbformat_minor": 2
}
