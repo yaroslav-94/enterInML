{
 "cells": [
  {
   "cell_type": "code",
   "execution_count": 13,
   "metadata": {},
   "outputs": [],
   "source": [
    "import pandas as pd\n",
    "from sklearn.model_selection import KFold\n",
    "from tqdm import tqdm_notebook as tqdm\n",
    "from sklearn.ensemble import RandomForestRegressor\n",
    "from sklearn.metrics import r2_score\n",
    "from sklearn.model_selection import cross_val_score"
   ]
  },
  {
   "cell_type": "markdown",
   "metadata": {},
   "source": [
    "1) Загрузите данные из файла abalone.csv. Это датасет, в котором требуется предсказать возраст ракушки (число колец) по физическим измерениям."
   ]
  },
  {
   "cell_type": "code",
   "execution_count": 4,
   "metadata": {},
   "outputs": [
    {
     "name": "stdout",
     "output_type": "stream",
     "text": [
      "  Sex  Length  Diameter  Height  WholeWeight  ShuckedWeight  VisceraWeight  \\\n",
      "0   M   0.455     0.365   0.095       0.5140         0.2245         0.1010   \n",
      "1   M   0.350     0.265   0.090       0.2255         0.0995         0.0485   \n",
      "2   F   0.530     0.420   0.135       0.6770         0.2565         0.1415   \n",
      "3   M   0.440     0.365   0.125       0.5160         0.2155         0.1140   \n",
      "4   I   0.330     0.255   0.080       0.2050         0.0895         0.0395   \n",
      "\n",
      "   ShellWeight  Rings  \n",
      "0        0.150     15  \n",
      "1        0.070      7  \n",
      "2        0.210      9  \n",
      "3        0.155     10  \n",
      "4        0.055      7  \n",
      "37593\n"
     ]
    }
   ],
   "source": [
    "data = pd.read_csv(r'/Users/u17491440/PycharmProjects/enterInML/data/week_5/abalone.csv')\n",
    "print(data.head())\n",
    "print(data.size)"
   ]
  },
  {
   "cell_type": "markdown",
   "metadata": {},
   "source": [
    "2) Преобразуйте признак Sex в числовой: значение F должно перейти в -1, I — в 0, M — в 1. Если вы используете Pandas, то подойдет следующий код: data['Sex'] = data['Sex'].map(lambda x: 1 if x == 'M' else (-1 if x == 'F' else 0))"
   ]
  },
  {
   "cell_type": "code",
   "execution_count": 5,
   "metadata": {},
   "outputs": [
    {
     "name": "stdout",
     "output_type": "stream",
     "text": [
      "   Sex  Length  Diameter  Height  WholeWeight  ShuckedWeight  VisceraWeight  \\\n",
      "0    1   0.455     0.365   0.095       0.5140         0.2245         0.1010   \n",
      "1    1   0.350     0.265   0.090       0.2255         0.0995         0.0485   \n",
      "2   -1   0.530     0.420   0.135       0.6770         0.2565         0.1415   \n",
      "3    1   0.440     0.365   0.125       0.5160         0.2155         0.1140   \n",
      "4    0   0.330     0.255   0.080       0.2050         0.0895         0.0395   \n",
      "\n",
      "   ShellWeight  Rings  \n",
      "0        0.150     15  \n",
      "1        0.070      7  \n",
      "2        0.210      9  \n",
      "3        0.155     10  \n",
      "4        0.055      7  \n",
      "37593\n"
     ]
    }
   ],
   "source": [
    "data['Sex'] = data['Sex'].map(lambda x: 1 if x == 'M' else (-1 if x == 'F' else 0))\n",
    "print(data.head())\n",
    "print(data.size)"
   ]
  },
  {
   "cell_type": "markdown",
   "metadata": {},
   "source": [
    "3) Разделите содержимое файлов на признаки и целевую переменную. В последнем столбце записана целевая переменная, в остальных — признаки."
   ]
  },
  {
   "cell_type": "code",
   "execution_count": 6,
   "metadata": {},
   "outputs": [],
   "source": [
    "data_param = data[data.columns.values.tolist()[0:data.shape[1]-2]]\n",
    "data_res = data['Rings']"
   ]
  },
  {
   "cell_type": "markdown",
   "metadata": {},
   "source": [
    "4) Обучите случайный лес (sklearn.ensemble.RandomForestRegressor) с различным числом деревьев: от 1 до 50 (не забудьте выставить \"random_state=1\" в конструкторе). Для каждого из вариантов оцените качество работы полученного леса на кросс-валидации по 5 блокам. Используйте параметры \"random_state=1\" и \"shuffle=True\" при создании генератора кросс-валидации sklearn.cross_validation.KFold.  В качестве меры качества воспользуйтесь коэффициентом детерминации (sklearn.metrics.r2_score)."
   ]
  },
  {
   "cell_type": "code",
   "execution_count": 19,
   "metadata": {
    "scrolled": true
   },
   "outputs": [
    {
     "data": {
      "application/vnd.jupyter.widget-view+json": {
       "model_id": "12ebb9f08648402b937f893c17e20277",
       "version_major": 2,
       "version_minor": 0
      },
      "text/plain": [
       "HBox(children=(IntProgress(value=0, max=50), HTML(value='')))"
      ]
     },
     "metadata": {},
     "output_type": "display_data"
    },
    {
     "name": "stdout",
     "output_type": "stream",
     "text": [
      "1 0.024133730158604937\n",
      "2 0.27082959884635327\n",
      "3 0.3961567123958528\n",
      "4 0.42516880729716966\n",
      "5 0.42423055378035057\n",
      "6 0.45441400334090803\n",
      "7 0.472126277644907\n",
      "8 0.4716611786193865\n",
      "9 0.46823707554712407\n",
      "10 0.4833131409508534\n",
      "11 0.48772236789759954\n",
      "12 0.4756429966044021\n",
      "13 0.489974186931744\n",
      "14 0.49347163124892524\n",
      "15 0.5015885825049766\n",
      "16 0.5004138912631321\n",
      "17 0.5055746918077054\n",
      "18 0.5011661289617539\n",
      "19 0.5046776122204961\n",
      "20 0.5070329904675273\n",
      "21 0.5067454663411535\n",
      "22 0.5069995986484271\n",
      "23 0.5123890254930983\n",
      "24 0.5020093707353317\n",
      "25 0.509935492629533\n",
      "26 0.5127516140131593\n",
      "27 0.5117411054356686\n",
      "28 0.5068939109799906\n",
      "29 0.513063271736974\n",
      "30 0.5133938481051331\n",
      "31 0.5223652976764835\n",
      "32 0.5046922060330636\n",
      "33 0.5163543345772559\n",
      "34 0.5163298381238983\n",
      "35 0.5091391298947257\n",
      "36 0.5143151543962547\n",
      "37 0.5187193416863961\n",
      "38 0.5175158914741722\n",
      "39 0.525265613750174\n",
      "40 0.5184749943664315\n",
      "41 0.5209492627238312\n",
      "42 0.5193710361331673\n",
      "43 0.5200604738504058\n",
      "44 0.5206793992527977\n",
      "45 0.5225027922748786\n",
      "46 0.5200020750534455\n",
      "47 0.5200555884214001\n",
      "48 0.522911311670659\n",
      "49 0.5182156392167464\n",
      "50 0.5177009070788141\n",
      "\n"
     ]
    }
   ],
   "source": [
    "kf = KFold(n_splits=5, shuffle=True, random_state=1)\n",
    "kf.split(data_param, data_res)\n",
    "\n",
    "# Обучение \n",
    "\n",
    "for j in tqdm(range (1,51,1)):\n",
    "    \n",
    "    regr = RandomForestRegressor(n_estimators=j)\n",
    "    regr.fit(data_param, data_res)\n",
    "    a = cross_val_score(regr, data_param, data_res, scoring = 'r2', cv = kf)\n",
    "    print(j, a.mean())"
   ]
  },
  {
   "cell_type": "markdown",
   "metadata": {},
   "source": [
    "5) Определите, при каком минимальном количестве деревьев случайный лес показывает качество на кросс-валидации выше 0.52. Это количество и будет ответом на задание."
   ]
  },
  {
   "cell_type": "code",
   "execution_count": 23,
   "metadata": {},
   "outputs": [
    {
     "data": {
      "application/vnd.jupyter.widget-view+json": {
       "model_id": "791312f34dfb488fa4184110e399e955",
       "version_major": 2,
       "version_minor": 0
      },
      "text/plain": [
       "HBox(children=(IntProgress(value=0, max=10), HTML(value='')))"
      ]
     },
     "metadata": {},
     "output_type": "display_data"
    },
    {
     "name": "stdout",
     "output_type": "stream",
     "text": [
      "\n"
     ]
    },
    {
     "data": {
      "text/html": [
       "<div>\n",
       "<style scoped>\n",
       "    .dataframe tbody tr th:only-of-type {\n",
       "        vertical-align: middle;\n",
       "    }\n",
       "\n",
       "    .dataframe tbody tr th {\n",
       "        vertical-align: top;\n",
       "    }\n",
       "\n",
       "    .dataframe thead th {\n",
       "        text-align: right;\n",
       "    }\n",
       "</style>\n",
       "<table border=\"1\" class=\"dataframe\">\n",
       "  <thead>\n",
       "    <tr style=\"text-align: right;\">\n",
       "      <th></th>\n",
       "      <th>0</th>\n",
       "    </tr>\n",
       "  </thead>\n",
       "  <tbody>\n",
       "    <tr>\n",
       "      <th>0</th>\n",
       "      <td>37.0</td>\n",
       "    </tr>\n",
       "    <tr>\n",
       "      <th>1</th>\n",
       "      <td>36.0</td>\n",
       "    </tr>\n",
       "    <tr>\n",
       "      <th>2</th>\n",
       "      <td>43.0</td>\n",
       "    </tr>\n",
       "    <tr>\n",
       "      <th>3</th>\n",
       "      <td>32.0</td>\n",
       "    </tr>\n",
       "    <tr>\n",
       "      <th>4</th>\n",
       "      <td>37.0</td>\n",
       "    </tr>\n",
       "    <tr>\n",
       "      <th>5</th>\n",
       "      <td>31.0</td>\n",
       "    </tr>\n",
       "    <tr>\n",
       "      <th>6</th>\n",
       "      <td>41.0</td>\n",
       "    </tr>\n",
       "    <tr>\n",
       "      <th>7</th>\n",
       "      <td>37.0</td>\n",
       "    </tr>\n",
       "    <tr>\n",
       "      <th>8</th>\n",
       "      <td>34.0</td>\n",
       "    </tr>\n",
       "    <tr>\n",
       "      <th>9</th>\n",
       "      <td>27.0</td>\n",
       "    </tr>\n",
       "  </tbody>\n",
       "</table>\n",
       "</div>"
      ],
      "text/plain": [
       "      0\n",
       "0  37.0\n",
       "1  36.0\n",
       "2  43.0\n",
       "3  32.0\n",
       "4  37.0\n",
       "5  31.0\n",
       "6  41.0\n",
       "7  37.0\n",
       "8  34.0\n",
       "9  27.0"
      ]
     },
     "execution_count": 23,
     "metadata": {},
     "output_type": "execute_result"
    }
   ],
   "source": [
    "results = pd.DataFrame()\n",
    "\n",
    "for j in tqdm(range (0,10,1)):\n",
    "    \n",
    "    regr = RandomForestRegressor(n_estimators=1)\n",
    "    regr.fit(data_param, data_res)\n",
    "    a = cross_val_score(regr, data_param, data_res, scoring = 'r2', cv = kf)\n",
    "    i = 1\n",
    "    \n",
    "    while(a.mean() < 0.52):\n",
    "        regr = RandomForestRegressor(n_estimators=i)\n",
    "        regr.fit(data_param, data_res)\n",
    "        a = cross_val_score(regr, data_param, data_res, scoring = 'r2', cv = kf)\n",
    "        results.loc[j,0] = i\n",
    "        i+=1\n",
    "results   "
   ]
  },
  {
   "cell_type": "markdown",
   "metadata": {},
   "source": [
    "6) Обратите внимание на изменение качества по мере роста числа деревьев. Ухудшается ли оно?\n",
    "\n",
    "Не ухудшается"
   ]
  },
  {
   "cell_type": "code",
   "execution_count": null,
   "metadata": {},
   "outputs": [],
   "source": []
  },
  {
   "cell_type": "code",
   "execution_count": null,
   "metadata": {},
   "outputs": [],
   "source": [
    "При каком минимальном размере леса значение метрики R2 на кросс-валидации превосходит 0.52?\n",
    "27"
   ]
  },
  {
   "cell_type": "code",
   "execution_count": null,
   "metadata": {},
   "outputs": [],
   "source": []
  }
 ],
 "metadata": {
  "kernelspec": {
   "display_name": "Python 3",
   "language": "python",
   "name": "python3"
  },
  "language_info": {
   "codemirror_mode": {
    "name": "ipython",
    "version": 3
   },
   "file_extension": ".py",
   "mimetype": "text/x-python",
   "name": "python",
   "nbconvert_exporter": "python",
   "pygments_lexer": "ipython3",
   "version": "3.7.1"
  }
 },
 "nbformat": 4,
 "nbformat_minor": 2
}
