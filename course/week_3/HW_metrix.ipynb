{
 "cells": [
  {
   "cell_type": "code",
   "execution_count": 26,
   "metadata": {},
   "outputs": [],
   "source": [
    "import pandas as pd\n",
    "\n",
    "from sklearn.metrics import accuracy_score\n",
    "from sklearn.metrics import precision_score\n",
    "from sklearn.metrics import recall_score\n",
    "from sklearn.metrics import f1_score\n",
    "from sklearn.metrics import roc_auc_score\n",
    "from sklearn.metrics import precision_recall_curve"
   ]
  },
  {
   "cell_type": "markdown",
   "metadata": {},
   "source": [
    "1) Загрузите файл classification.csv. В нем записаны истинные классы объектов выборки (колонка true) и ответы некоторого классификатора (колонка pred)."
   ]
  },
  {
   "cell_type": "code",
   "execution_count": 16,
   "metadata": {},
   "outputs": [
    {
     "data": {
      "text/html": [
       "<div>\n",
       "<style scoped>\n",
       "    .dataframe tbody tr th:only-of-type {\n",
       "        vertical-align: middle;\n",
       "    }\n",
       "\n",
       "    .dataframe tbody tr th {\n",
       "        vertical-align: top;\n",
       "    }\n",
       "\n",
       "    .dataframe thead th {\n",
       "        text-align: right;\n",
       "    }\n",
       "</style>\n",
       "<table border=\"1\" class=\"dataframe\">\n",
       "  <thead>\n",
       "    <tr style=\"text-align: right;\">\n",
       "      <th></th>\n",
       "      <th>true</th>\n",
       "      <th>pred</th>\n",
       "    </tr>\n",
       "  </thead>\n",
       "  <tbody>\n",
       "    <tr>\n",
       "      <th>0</th>\n",
       "      <td>1</td>\n",
       "      <td>0</td>\n",
       "    </tr>\n",
       "    <tr>\n",
       "      <th>1</th>\n",
       "      <td>1</td>\n",
       "      <td>1</td>\n",
       "    </tr>\n",
       "    <tr>\n",
       "      <th>2</th>\n",
       "      <td>1</td>\n",
       "      <td>1</td>\n",
       "    </tr>\n",
       "    <tr>\n",
       "      <th>3</th>\n",
       "      <td>0</td>\n",
       "      <td>0</td>\n",
       "    </tr>\n",
       "    <tr>\n",
       "      <th>4</th>\n",
       "      <td>1</td>\n",
       "      <td>1</td>\n",
       "    </tr>\n",
       "  </tbody>\n",
       "</table>\n",
       "</div>"
      ],
      "text/plain": [
       "   true  pred\n",
       "0     1     0\n",
       "1     1     1\n",
       "2     1     1\n",
       "3     0     0\n",
       "4     1     1"
      ]
     },
     "execution_count": 16,
     "metadata": {},
     "output_type": "execute_result"
    }
   ],
   "source": [
    "data = pd.read_csv(r'/Users/u17491440/PycharmProjects/enterInML/data/week_3/classification.csv')\n",
    "\n",
    "data.head()"
   ]
  },
  {
   "cell_type": "markdown",
   "metadata": {},
   "source": [
    "2) Подсчитайте величины TP, FP, FN и TN согласно их определениям. Например, FP — это количество объектов, имеющих класс 0, но отнесенных алгоритмом к классу 1. Ответ в данном вопросе — четыре числа через пробел."
   ]
  },
  {
   "cell_type": "code",
   "execution_count": 10,
   "metadata": {},
   "outputs": [
    {
     "name": "stdout",
     "output_type": "stream",
     "text": [
      "43 34 59 64\n"
     ]
    }
   ],
   "source": [
    "TP = data.query('true==1 & pred==1').shape[0]\n",
    "FP = data.query('true==0 & pred==1').shape[0]\n",
    "FN = data.query('true==1 & pred==0').shape[0]\n",
    "TN = data.query('true==0 & pred==0').shape[0]\n",
    "print(TP, FP, FN, TN, sep = ' ')"
   ]
  },
  {
   "cell_type": "markdown",
   "metadata": {},
   "source": [
    "3) Посчитайте основные метрики качества классификатора:\n",
    "- Accuracy (доля верно угаданных) — sklearn.metrics.accuracy_score\n",
    "- Precision (точность) — sklearn.metrics.precision_score\n",
    "- Recall (полнота) — sklearn.metrics.recall_score\n",
    "- F-мера — sklearn.metrics.f1_score\n",
    "\n",
    "В качестве ответа укажите эти четыре числа через пробел."
   ]
  },
  {
   "cell_type": "code",
   "execution_count": 17,
   "metadata": {},
   "outputs": [
    {
     "name": "stdout",
     "output_type": "stream",
     "text": [
      "0.535\n",
      "0.5584415584415584\n",
      "0.4215686274509804\n",
      "0.48044692737430167\n"
     ]
    }
   ],
   "source": [
    "#Accuracy (доля верно угаданных) — sklearn.metrics.accuracy_score\n",
    "print( accuracy_score(data['true'], data['pred']) )\n",
    "\n",
    "#Precision (точность) — sklearn.metrics.precision_score\n",
    "print( precision_score(data['true'], data['pred']) )\n",
    "\n",
    "#Recall (полнота) — sklearn.metrics.recall_score\n",
    "print( recall_score(data['true'], data['pred']) )\n",
    "\n",
    "#F-мера — sklearn.metrics.f1_score\n",
    "print( f1_score(data['true'], data['pred']) )"
   ]
  },
  {
   "cell_type": "markdown",
   "metadata": {},
   "source": [
    "4) Имеется четыре обученных классификатора. В файле scores.csv записаны истинные классы и значения степени принадлежности положительному классу для каждого классификатора на некоторой выборке:\n",
    "- для логистической регрессии — вероятность положительного класса (колонка score_logreg),\n",
    "- для SVM — отступ от разделяющей поверхности (колонка score_svm),\n",
    "- для метрического алгоритма — взвешенная сумма классов соседей (колонка score_knn),\n",
    "- для решающего дерева — доля положительных объектов в листе (колонка score_tree).\n",
    "\n",
    "Загрузите этот файл."
   ]
  },
  {
   "cell_type": "code",
   "execution_count": 23,
   "metadata": {},
   "outputs": [
    {
     "data": {
      "text/html": [
       "<div>\n",
       "<style scoped>\n",
       "    .dataframe tbody tr th:only-of-type {\n",
       "        vertical-align: middle;\n",
       "    }\n",
       "\n",
       "    .dataframe tbody tr th {\n",
       "        vertical-align: top;\n",
       "    }\n",
       "\n",
       "    .dataframe thead th {\n",
       "        text-align: right;\n",
       "    }\n",
       "</style>\n",
       "<table border=\"1\" class=\"dataframe\">\n",
       "  <thead>\n",
       "    <tr style=\"text-align: right;\">\n",
       "      <th></th>\n",
       "      <th>true</th>\n",
       "      <th>score_logreg</th>\n",
       "      <th>score_svm</th>\n",
       "      <th>score_knn</th>\n",
       "      <th>score_tree</th>\n",
       "    </tr>\n",
       "  </thead>\n",
       "  <tbody>\n",
       "    <tr>\n",
       "      <th>0</th>\n",
       "      <td>0</td>\n",
       "      <td>0.683832</td>\n",
       "      <td>0.145976</td>\n",
       "      <td>0.787063</td>\n",
       "      <td>0.500000</td>\n",
       "    </tr>\n",
       "    <tr>\n",
       "      <th>1</th>\n",
       "      <td>1</td>\n",
       "      <td>0.801966</td>\n",
       "      <td>0.239511</td>\n",
       "      <td>1.000000</td>\n",
       "      <td>0.833333</td>\n",
       "    </tr>\n",
       "    <tr>\n",
       "      <th>2</th>\n",
       "      <td>0</td>\n",
       "      <td>0.382315</td>\n",
       "      <td>-0.245701</td>\n",
       "      <td>0.000000</td>\n",
       "      <td>0.000000</td>\n",
       "    </tr>\n",
       "    <tr>\n",
       "      <th>3</th>\n",
       "      <td>1</td>\n",
       "      <td>0.506797</td>\n",
       "      <td>-0.137058</td>\n",
       "      <td>0.000000</td>\n",
       "      <td>0.105263</td>\n",
       "    </tr>\n",
       "    <tr>\n",
       "      <th>4</th>\n",
       "      <td>1</td>\n",
       "      <td>0.488781</td>\n",
       "      <td>-0.154148</td>\n",
       "      <td>0.000000</td>\n",
       "      <td>0.105263</td>\n",
       "    </tr>\n",
       "  </tbody>\n",
       "</table>\n",
       "</div>"
      ],
      "text/plain": [
       "   true  score_logreg  score_svm  score_knn  score_tree\n",
       "0     0      0.683832   0.145976   0.787063    0.500000\n",
       "1     1      0.801966   0.239511   1.000000    0.833333\n",
       "2     0      0.382315  -0.245701   0.000000    0.000000\n",
       "3     1      0.506797  -0.137058   0.000000    0.105263\n",
       "4     1      0.488781  -0.154148   0.000000    0.105263"
      ]
     },
     "execution_count": 23,
     "metadata": {},
     "output_type": "execute_result"
    }
   ],
   "source": [
    "data_scores = pd.read_csv(r'/Users/u17491440/PycharmProjects/enterInML/data/week_3/scores.csv')\n",
    "\n",
    "data_scores.head()"
   ]
  },
  {
   "cell_type": "markdown",
   "metadata": {},
   "source": [
    "5) Посчитайте площадь под ROC-кривой для каждого классификатора. Какой классификатор имеет наибольшее значение метрики AUC-ROC (укажите название столбца)? Воспользуйтесь функцией sklearn.metrics.roc_auc_score."
   ]
  },
  {
   "cell_type": "code",
   "execution_count": 44,
   "metadata": {},
   "outputs": [
    {
     "name": "stdout",
     "output_type": "stream",
     "text": [
      "0.719187675070028 score_logreg\n",
      "0.7086834733893557 score_svm\n",
      "0.6351540616246498 score_knn\n",
      "0.6919267707082833 score_tree\n"
     ]
    }
   ],
   "source": [
    "# ROC AUC score для каждого столбца\n",
    "# Столбец первый\n",
    "print( roc_auc_score(data_scores['true'], data_scores['score_logreg']), 'score_logreg')\n",
    "\n",
    "# Столбец второй\n",
    "print( roc_auc_score(data_scores['true'], data_scores['score_svm']), 'score_svm')\n",
    "\n",
    "# Столбец третий\n",
    "print( roc_auc_score(data_scores['true'], data_scores['score_knn']), 'score_knn')\n",
    "\n",
    "# Столбец четвертый\n",
    "print( roc_auc_score(data_scores['true'], data_scores['score_tree']), 'score_tree')"
   ]
  },
  {
   "cell_type": "markdown",
   "metadata": {},
   "source": [
    "6) Какой классификатор достигает наибольшей точности (Precision) при полноте (Recall) не менее 70% ? "
   ]
  },
  {
   "cell_type": "code",
   "execution_count": 43,
   "metadata": {
    "scrolled": true
   },
   "outputs": [
    {
     "name": "stdout",
     "output_type": "stream",
     "text": [
      "score_logreg 0.49746192893401014 1.0\n",
      "score_logreg 0.5 0.9591836734693877\n",
      "score_logreg 0.5026737967914439 0.9591836734693877\n",
      "score_logreg 0.5027322404371585 0.9387755102040817\n",
      "score_logreg 0.5054945054945055 0.9387755102040817\n",
      "score_logreg 0.5082872928176796 0.9387755102040817\n",
      "score_logreg 0.5111111111111111 0.9387755102040817\n",
      "score_logreg 0.5139664804469274 0.9387755102040817\n",
      "score_logreg 0.5168539325842697 0.9387755102040817\n",
      "score_logreg 0.519774011299435 0.9387755102040817\n",
      "score_logreg 0.5227272727272727 0.9387755102040817\n",
      "score_logreg 0.5257142857142857 0.9387755102040817\n",
      "score_logreg 0.5287356321839081 0.9387755102040817\n",
      "score_logreg 0.5317919075144508 0.9387755102040817\n",
      "score_logreg 0.5348837209302325 0.9387755102040817\n",
      "score_logreg 0.5380116959064327 0.9387755102040817\n",
      "score_logreg 0.5384615384615384 0.9285714285714286\n",
      "score_logreg 0.5416666666666666 0.9285714285714286\n",
      "score_logreg 0.5449101796407185 0.9285714285714286\n",
      "score_logreg 0.5481927710843374 0.9285714285714286\n",
      "score_logreg 0.5515151515151515 0.9285714285714286\n",
      "score_logreg 0.5521472392638037 0.9183673469387755\n",
      "score_logreg 0.5527950310559007 0.9081632653061225\n",
      "score_logreg 0.55625 0.9081632653061225\n",
      "score_logreg 0.559748427672956 0.9081632653061225\n",
      "score_logreg 0.5605095541401274 0.8979591836734694\n",
      "score_logreg 0.5641025641025641 0.8979591836734694\n",
      "score_logreg 0.564935064935065 0.8877551020408163\n",
      "score_logreg 0.5686274509803921 0.8877551020408163\n",
      "score_logreg 0.5695364238410596 0.8775510204081632\n",
      "score_logreg 0.5704697986577181 0.8673469387755102\n",
      "score_logreg 0.5743243243243243 0.8673469387755102\n",
      "score_logreg 0.5753424657534246 0.8571428571428571\n",
      "score_logreg 0.5763888888888888 0.8469387755102041\n",
      "score_logreg 0.5804195804195804 0.8469387755102041\n",
      "score_logreg 0.5845070422535211 0.8469387755102041\n",
      "score_logreg 0.5857142857142857 0.8367346938775511\n",
      "score_logreg 0.5899280575539568 0.8367346938775511\n",
      "score_logreg 0.5912408759124088 0.826530612244898\n",
      "score_logreg 0.5955882352941176 0.826530612244898\n",
      "score_logreg 0.6 0.826530612244898\n",
      "score_logreg 0.6015037593984962 0.8163265306122449\n",
      "score_logreg 0.6060606060606061 0.8163265306122449\n",
      "score_logreg 0.609375 0.7959183673469388\n",
      "score_logreg 0.6141732283464567 0.7959183673469388\n",
      "score_logreg 0.616 0.7857142857142857\n",
      "score_logreg 0.6209677419354839 0.7857142857142857\n",
      "score_logreg 0.6260162601626016 0.7857142857142857\n",
      "score_logreg 0.6302521008403361 0.7653061224489796\n",
      "score_tree 0.6517857142857143 0.7448979591836735\n"
     ]
    },
    {
     "data": {
      "text/plain": [
       "'score_tree'"
      ]
     },
     "execution_count": 43,
     "metadata": {},
     "output_type": "execute_result"
    }
   ],
   "source": [
    "# Наибольшая точность классификатора при полноте не меньше 70%\n",
    "precision, recall, thresholds = precision_recall_curve(data_scores['true'].values, data_scores['score_logreg'].values)\n",
    "precision_max = 0\n",
    "classiff = ''\n",
    "for j in ['score_logreg', 'score_svm', 'score_knn', 'score_tree']:\n",
    "    precision, recall, thresholds = precision_recall_curve(data_scores['true'].values, data_scores[j].values)\n",
    "    for i in range(len(precision)):\n",
    "        if (recall[i]>0.7) and (precision[i]>precision_max):\n",
    "            precision_max = precision[i]\n",
    "            classiff = j\n",
    "            print(classiff, precision_max, recall[i], sep=\" \")\n",
    "classiff"
   ]
  },
  {
   "cell_type": "markdown",
   "metadata": {},
   "source": [
    "1) Чему равны значения TP, FP, FN, TN (укажете четыре числа через пробел)?\n",
    "43 34 59 64\n",
    "\n",
    "2) Чему равны доля правильных ответов, точность, полнота, F-мера (укажите через пробел)?\n",
    "0.54 0.56 0.42 0.48\n",
    "\n",
    "3) Какой из классификаторов имеет наибольшее значение метрики AUC-ROC (укажите название столбца)?\n",
    "score_logreg\n",
    "\n",
    "4) Какой классификатор достигает наибольшей точности при полноте не менее 70% (укажите название столбца)?\n",
    "score_tree"
   ]
  },
  {
   "cell_type": "code",
   "execution_count": null,
   "metadata": {},
   "outputs": [],
   "source": []
  },
  {
   "cell_type": "code",
   "execution_count": null,
   "metadata": {},
   "outputs": [],
   "source": []
  },
  {
   "cell_type": "code",
   "execution_count": null,
   "metadata": {},
   "outputs": [],
   "source": []
  },
  {
   "cell_type": "code",
   "execution_count": null,
   "metadata": {},
   "outputs": [],
   "source": []
  },
  {
   "cell_type": "code",
   "execution_count": null,
   "metadata": {},
   "outputs": [],
   "source": []
  },
  {
   "cell_type": "code",
   "execution_count": null,
   "metadata": {},
   "outputs": [],
   "source": []
  },
  {
   "cell_type": "code",
   "execution_count": null,
   "metadata": {},
   "outputs": [],
   "source": []
  },
  {
   "cell_type": "code",
   "execution_count": null,
   "metadata": {},
   "outputs": [],
   "source": []
  }
 ],
 "metadata": {
  "kernelspec": {
   "display_name": "Python 3",
   "language": "python",
   "name": "python3"
  },
  "language_info": {
   "codemirror_mode": {
    "name": "ipython",
    "version": 3
   },
   "file_extension": ".py",
   "mimetype": "text/x-python",
   "name": "python",
   "nbconvert_exporter": "python",
   "pygments_lexer": "ipython3",
   "version": "3.7.1"
  }
 },
 "nbformat": 4,
 "nbformat_minor": 2
}
