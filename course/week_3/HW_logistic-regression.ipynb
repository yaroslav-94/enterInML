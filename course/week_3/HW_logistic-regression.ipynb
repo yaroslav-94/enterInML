{
 "cells": [
  {
   "cell_type": "code",
   "execution_count": 2,
   "metadata": {},
   "outputs": [],
   "source": [
    "import math\n",
    "from tqdm import tqdm_notebook as tqdm\n",
    "import pandas as pd\n",
    "from sklearn.metrics import roc_auc_score"
   ]
  },
  {
   "cell_type": "markdown",
   "metadata": {},
   "source": [
    "1) Загрузите данные из файла data-logistic.csv. Это двумерная выборка, целевая переменная на которой принимает значения -1 или 1."
   ]
  },
  {
   "cell_type": "code",
   "execution_count": 4,
   "metadata": {},
   "outputs": [
    {
     "data": {
      "text/html": [
       "<div>\n",
       "<style scoped>\n",
       "    .dataframe tbody tr th:only-of-type {\n",
       "        vertical-align: middle;\n",
       "    }\n",
       "\n",
       "    .dataframe tbody tr th {\n",
       "        vertical-align: top;\n",
       "    }\n",
       "\n",
       "    .dataframe thead th {\n",
       "        text-align: right;\n",
       "    }\n",
       "</style>\n",
       "<table border=\"1\" class=\"dataframe\">\n",
       "  <thead>\n",
       "    <tr style=\"text-align: right;\">\n",
       "      <th></th>\n",
       "      <th>class</th>\n",
       "      <th>val_1</th>\n",
       "      <th>val_2</th>\n",
       "    </tr>\n",
       "  </thead>\n",
       "  <tbody>\n",
       "    <tr>\n",
       "      <th>0</th>\n",
       "      <td>-1</td>\n",
       "      <td>-0.663827</td>\n",
       "      <td>-0.138526</td>\n",
       "    </tr>\n",
       "    <tr>\n",
       "      <th>1</th>\n",
       "      <td>1</td>\n",
       "      <td>1.994596</td>\n",
       "      <td>2.468025</td>\n",
       "    </tr>\n",
       "    <tr>\n",
       "      <th>2</th>\n",
       "      <td>-1</td>\n",
       "      <td>-1.247395</td>\n",
       "      <td>0.749425</td>\n",
       "    </tr>\n",
       "    <tr>\n",
       "      <th>3</th>\n",
       "      <td>1</td>\n",
       "      <td>2.309374</td>\n",
       "      <td>1.899836</td>\n",
       "    </tr>\n",
       "    <tr>\n",
       "      <th>4</th>\n",
       "      <td>1</td>\n",
       "      <td>0.849143</td>\n",
       "      <td>2.407750</td>\n",
       "    </tr>\n",
       "  </tbody>\n",
       "</table>\n",
       "</div>"
      ],
      "text/plain": [
       "   class     val_1     val_2\n",
       "0     -1 -0.663827 -0.138526\n",
       "1      1  1.994596  2.468025\n",
       "2     -1 -1.247395  0.749425\n",
       "3      1  2.309374  1.899836\n",
       "4      1  0.849143  2.407750"
      ]
     },
     "execution_count": 4,
     "metadata": {},
     "output_type": "execute_result"
    }
   ],
   "source": [
    "data = pd.read_csv(r'/Users/u17491440/PycharmProjects/enterInML/data/week_3/data-logistic.csv', names=[\"class\", \"val_1\", \"val_2\"])\n",
    "data.head()"
   ]
  },
  {
   "cell_type": "markdown",
   "metadata": {},
   "source": [
    "2) Убедитесь, что выше выписаны правильные формулы для градиентного спуска. Обратите внимание, что мы используем полноценный градиентный спуск, а не его стохастический вариант!"
   ]
  },
  {
   "cell_type": "markdown",
   "metadata": {},
   "source": [
    "3) Реализуйте градиентный спуск для обычной и L2-регуляризованной (с коэффициентом регуляризации 10) логистической регрессии. Используйте длину шага k=0.1. В качестве начального приближения используйте вектор (0, 0)."
   ]
  },
  {
   "cell_type": "markdown",
   "metadata": {},
   "source": [
    "4) Запустите градиентный спуск и доведите до сходимости (евклидово расстояние между векторами весов на соседних итерациях должно быть не больше 1e-5). Рекомендуется ограничить сверху число итераций десятью тысячами.\n",
    "\n",
    "$w_1:=w_1+k\\frac{1}{l}\\sum_{1 \\leq i \\leq l}y_i x_{i1} (1-\\frac{1}{1+exp(-y_i(w_1 x_{i1}+w_2 x_{i2}))})-kCw_1$\n",
    "\n",
    "$w_2:=w_2+k\\frac{1}{l}\\sum_{1 \\leq i \\leq l}y_i x_{i2} (1-\\frac{1}{1+exp(-y_i(w_1 x_{i1}+w_2 x_{i2}))})-kCw_2$"
   ]
  },
  {
   "cell_type": "code",
   "execution_count": 6,
   "metadata": {},
   "outputs": [
    {
     "data": {
      "application/vnd.jupyter.widget-view+json": {
       "model_id": "cb09141393554e5db231b6c27660e5ae",
       "version_major": 2,
       "version_minor": 0
      },
      "text/plain": [
       "HBox(children=(IntProgress(value=0, max=10000), HTML(value='')))"
      ]
     },
     "metadata": {},
     "output_type": "display_data"
    },
    {
     "name": "stdout",
     "output_type": "stream",
     "text": [
      "\n"
     ]
    }
   ],
   "source": [
    "w_1, w_2 = 10, 10\n",
    "w_1_new, w_2_new = 10, 10\n",
    "k = 0.1\n",
    "l = data.shape[0]\n",
    "range_r = 100\n",
    "num_iter = 0\n",
    "C = 10\n",
    "\n",
    "# без регуляризации\n",
    "for i in tqdm(range(10000)):\n",
    "    w_1_new = w_1_new + k*1/l*sum([ data.iloc[i,0]*data.iloc[i,1]*(1 - 1/(1 + math.exp(-data.iloc[i,0]*(w_1*data.iloc[i,1] + w_2*data.iloc[i,2]))))  for i in range(l)])\n",
    "    w_2_new = w_2_new + k*1/l*sum([ data.iloc[i,0]*data.iloc[i,2]*(1 - 1/(1 + math.exp(-data.iloc[i,0]*(w_1*data.iloc[i,1] + w_2*data.iloc[i,2]))))  for i in range(l)])\n",
    "    range_r = ((w_1_new - w_1)**2 + (w_2_new - w_2)**2)**(1/2)\n",
    "    w_2 = w_2_new\n",
    "    w_1 = w_1_new\n",
    "    if (range_r < 10**(-5)): break"
   ]
  },
  {
   "cell_type": "markdown",
   "metadata": {},
   "source": [
    "5) Какое значение принимает AUC-ROC на обучении без регуляризации и при ее использовании? Эти величины будут ответом на задание. В качестве ответа приведите два числа через пробел. Обратите внимание, что на вход функции roc_auc_score нужно подавать оценки вероятностей, подсчитанные обученным алгоритмом. Для этого воспользуйтесь сигмоидной функцией: a(x) = 1 / (1 + exp(-w1 x1 - w2 x2)). "
   ]
  },
  {
   "cell_type": "code",
   "execution_count": 8,
   "metadata": {},
   "outputs": [
    {
     "data": {
      "application/vnd.jupyter.widget-view+json": {
       "model_id": "5aebfb0917f140faa280f209333ea3f8",
       "version_major": 2,
       "version_minor": 0
      },
      "text/plain": [
       "HBox(children=(IntProgress(value=0, max=10000), HTML(value='')))"
      ]
     },
     "metadata": {},
     "output_type": "display_data"
    },
    {
     "name": "stdout",
     "output_type": "stream",
     "text": [
      "\n",
      "без регуляризации 0.9266666666666666\n"
     ]
    },
    {
     "data": {
      "application/vnd.jupyter.widget-view+json": {
       "model_id": "bf50e4d5df5141ae85d7d4a30d87876f",
       "version_major": 2,
       "version_minor": 0
      },
      "text/plain": [
       "HBox(children=(IntProgress(value=0, max=10000), HTML(value='')))"
      ]
     },
     "metadata": {},
     "output_type": "display_data"
    },
    {
     "name": "stdout",
     "output_type": "stream",
     "text": [
      "\n",
      "С регуляризацией 0.9370476190476189\n"
     ]
    }
   ],
   "source": [
    "w_1, w_2 = 10, 10\n",
    "w_1_new, w_2_new = 10, 10\n",
    "k = 0.1\n",
    "l = data.shape[0]\n",
    "range_r = 100\n",
    "data.iloc[0,0]\n",
    "num_iter = 0\n",
    "C = 10\n",
    "\n",
    "# без регуляризации\n",
    "for i in tqdm(range(10000)):\n",
    "    w_1_new = w_1_new + k*1/l*sum([ data.iloc[i,0]*data.iloc[i,1]*(1 - 1/(1 + math.exp(-data.iloc[i,0]*(w_1*data.iloc[i,1] + w_2*data.iloc[i,2]))))  for i in range(l)])\n",
    "    w_2_new = w_2_new + k*1/l*sum([ data.iloc[i,0]*data.iloc[i,2]*(1 - 1/(1 + math.exp(-data.iloc[i,0]*(w_1*data.iloc[i,1] + w_2*data.iloc[i,2]))))  for i in range(l)])\n",
    "    range_r = ((w_1_new - w_1)**2 + (w_2_new - w_2)**2)**(1/2)\n",
    "    w_2 = w_2_new\n",
    "    w_1 = w_1_new\n",
    "    if (range_r < 10**(-5)): break\n",
    "a = [1/ (1+math.exp(-w_1*data.iloc[i, 1] - w_2*data.iloc[i,2])) for i in range(l)]\n",
    "print(\"без регуляризации\", roc_auc_score(data.iloc[:,0], a))\n",
    "\n",
    "# С регуляризацией\n",
    "for i in tqdm(range(10000)):\n",
    "    w_1_new = w_1_new + k*1/l*sum([ data.iloc[i,0]*data.iloc[i,1]*(1 - 1/(1 + math.exp(-data.iloc[i,0]*(w_1*data.iloc[i,1] + w_2*data.iloc[i,2]))))  for i in range(l)] - k*C*w_1_new)\n",
    "    w_2_new = w_2_new + k*1/l*sum([ data.iloc[i,0]*data.iloc[i,2]*(1 - 1/(1 + math.exp(-data.iloc[i,0]*(w_1*data.iloc[i,1] + w_2*data.iloc[i,2]))))  for i in range(l)] - k*C*w_2_new)\n",
    "    range_r = ((w_1_new - w_1)**2 + (w_2_new - w_2)**2)**(1/2)\n",
    "    w_2 = w_2_new\n",
    "    w_1 = w_1_new\n",
    "    if (range_r < 10**(-5)): break\n",
    "a = [1/ (1+math.exp(-w_1*data.iloc[i, 1] - w_2*data.iloc[i,2])) for i in range(l)]\n",
    "print(\"С регуляризацией\", roc_auc_score(data.iloc[:,0], a))"
   ]
  },
  {
   "cell_type": "markdown",
   "metadata": {},
   "source": [
    "6) Попробуйте поменять длину шага. Будет ли сходиться алгоритм, если делать более длинные шаги? Как меняется число итераций при уменьшении длины шага?"
   ]
  },
  {
   "cell_type": "code",
   "execution_count": 10,
   "metadata": {},
   "outputs": [
    {
     "name": "stdout",
     "output_type": "stream",
     "text": [
      "Алгоритм без регуляризации\n"
     ]
    },
    {
     "data": {
      "application/vnd.jupyter.widget-view+json": {
       "model_id": "a037a71a67bd4e4b8f91fd5cab71d11b",
       "version_major": 2,
       "version_minor": 0
      },
      "text/plain": [
       "HBox(children=(IntProgress(value=0, max=10000), HTML(value='')))"
      ]
     },
     "metadata": {},
     "output_type": "display_data"
    },
    {
     "name": "stdout",
     "output_type": "stream",
     "text": [
      "0.05  -  0.9265714285714286  - параметр сходимости  9.936533399073441e-06  - число этераций  994\n"
     ]
    },
    {
     "data": {
      "application/vnd.jupyter.widget-view+json": {
       "model_id": "b81231db35ce42a2a4176b6edfb25c8a",
       "version_major": 2,
       "version_minor": 0
      },
      "text/plain": [
       "HBox(children=(IntProgress(value=0, max=10000), HTML(value='')))"
      ]
     },
     "metadata": {},
     "output_type": "display_data"
    },
    {
     "name": "stdout",
     "output_type": "stream",
     "text": [
      "0.1  -  0.9266666666666666  - параметр сходимости  9.798284446237108e-06  - число этераций  29\n"
     ]
    },
    {
     "data": {
      "application/vnd.jupyter.widget-view+json": {
       "model_id": "83cd359dea4f4fc8b99bfa93e9b66063",
       "version_major": 2,
       "version_minor": 0
      },
      "text/plain": [
       "HBox(children=(IntProgress(value=0, max=10000), HTML(value='')))"
      ]
     },
     "metadata": {},
     "output_type": "display_data"
    },
    {
     "name": "stdout",
     "output_type": "stream",
     "text": [
      "0.2  -  0.9266666666666666  - параметр сходимости  9.69694775095824e-06  - число этераций  14\n"
     ]
    },
    {
     "data": {
      "application/vnd.jupyter.widget-view+json": {
       "model_id": "a297dcb782254b6298c2742f9f25d1bf",
       "version_major": 2,
       "version_minor": 0
      },
      "text/plain": [
       "HBox(children=(IntProgress(value=0, max=10000), HTML(value='')))"
      ]
     },
     "metadata": {},
     "output_type": "display_data"
    },
    {
     "name": "stdout",
     "output_type": "stream",
     "text": [
      "0.3  -  0.9267619047619047  - параметр сходимости  9.584063740644553e-06  - число этераций  5\n"
     ]
    },
    {
     "data": {
      "application/vnd.jupyter.widget-view+json": {
       "model_id": "c18af54d3f1e4540920f569bf6ee0d24",
       "version_major": 2,
       "version_minor": 0
      },
      "text/plain": [
       "HBox(children=(IntProgress(value=0, max=10000), HTML(value='')))"
      ]
     },
     "metadata": {},
     "output_type": "display_data"
    },
    {
     "name": "stdout",
     "output_type": "stream",
     "text": [
      "0.4  -  0.9267619047619047  - параметр сходимости  9.727245757720137e-06  - число этераций  2\n"
     ]
    },
    {
     "data": {
      "application/vnd.jupyter.widget-view+json": {
       "model_id": "007e6cec5fa24a4d9afd3768148a0a2f",
       "version_major": 2,
       "version_minor": 0
      },
      "text/plain": [
       "HBox(children=(IntProgress(value=0, max=10000), HTML(value='')))"
      ]
     },
     "metadata": {},
     "output_type": "display_data"
    },
    {
     "name": "stdout",
     "output_type": "stream",
     "text": [
      "0.5  -  0.9267619047619047  - параметр сходимости  9.702918209419873e-06  - число этераций  1\n"
     ]
    },
    {
     "data": {
      "application/vnd.jupyter.widget-view+json": {
       "model_id": "6cba66efe53645eca5656ea878dc2a22",
       "version_major": 2,
       "version_minor": 0
      },
      "text/plain": [
       "HBox(children=(IntProgress(value=0, max=10000), HTML(value='')))"
      ]
     },
     "metadata": {},
     "output_type": "display_data"
    },
    {
     "name": "stdout",
     "output_type": "stream",
     "text": [
      "0.6  -  0.9267619047619047  - параметр сходимости  8.805134509989033e-06  - число этераций  1\n"
     ]
    },
    {
     "data": {
      "application/vnd.jupyter.widget-view+json": {
       "model_id": "d68dbc753ee6439f80f67d588c0c6cea",
       "version_major": 2,
       "version_minor": 0
      },
      "text/plain": [
       "HBox(children=(IntProgress(value=0, max=10000), HTML(value='')))"
      ]
     },
     "metadata": {},
     "output_type": "display_data"
    },
    {
     "name": "stdout",
     "output_type": "stream",
     "text": [
      "0.7  -  0.9267619047619047  - параметр сходимости  8.812373136124114e-06  - число этераций  0\n"
     ]
    },
    {
     "data": {
      "application/vnd.jupyter.widget-view+json": {
       "model_id": "a504ea2ba4444b4b9e9d0376a3f05088",
       "version_major": 2,
       "version_minor": 0
      },
      "text/plain": [
       "HBox(children=(IntProgress(value=0, max=10000), HTML(value='')))"
      ]
     },
     "metadata": {},
     "output_type": "display_data"
    },
    {
     "name": "stdout",
     "output_type": "stream",
     "text": [
      "0.8  -  0.9267619047619047  - параметр сходимости  8.401012097789157e-06  - число этераций  0\n"
     ]
    }
   ],
   "source": [
    "w_1, w_2 = 10, 10\n",
    "w_1_new, w_2_new = 10, 10\n",
    "k = 0.1\n",
    "l = data.shape[0]\n",
    "range_r = 100\n",
    "num_iter = 0\n",
    "C = 10\n",
    "print(\"Алгоритм без регуляризации\")\n",
    "for k in [0.05, 0.1, 0.2, 0.3, 0.4, 0.5, 0.6, 0.7, 0.8]:\n",
    "    for i in tqdm(range(10000)):\n",
    "        w_1_new = w_1_new + k*1/l*sum([ data.iloc[i,0]*data.iloc[i,1]*(1 - 1/(1 + math.exp(-data.iloc[i,0]*(w_1*data.iloc[i,1] + w_2*data.iloc[i,2]))))  for i in range(l)])\n",
    "        w_2_new = w_2_new + k*1/l*sum([ data.iloc[i,0]*data.iloc[i,2]*(1 - 1/(1 + math.exp(-data.iloc[i,0]*(w_1*data.iloc[i,1] + w_2*data.iloc[i,2]))))  for i in range(l)])\n",
    "        range_r = ((w_1_new - w_1)**2 + (w_2_new - w_2)**2)**(1/2)\n",
    "        w_2 = w_2_new\n",
    "        w_1 = w_1_new\n",
    "        if (range_r < 10**(-5)): break\n",
    "    a = [1/ (1+math.exp(-w_1*data.iloc[i, 1] - w_2*data.iloc[i,2])) for i in range(l)]\n",
    "    print(k, \" - \", roc_auc_score(data.iloc[:,0], a), \" - параметр сходимости \", range_r, \" - число этераций \", i)   "
   ]
  },
  {
   "cell_type": "markdown",
   "metadata": {},
   "source": [
    "7) Попробуйте менять начальное приближение. Влияет ли оно на что-нибудь?\n",
    "\n",
    "Начальное приближение влияет слабо, в основном на число этераций\n",
    "\n",
    "$w_1, w_2, w_{1,new}, w_{2, new} = 10, 10, 10, 10$ без регуляризации: 0.927 (522); с регуляризацией 0.937 (54)     \n",
    "$w_1, w_2, w_{1,new}, w_{2, new} = 0, 0, 0, 0$ без регуляризации: 0.927 (243); с регуляризацией 0.937(54)       \n",
    "$w_1, w_2, w_{1,new}, w_{2, new} = 10, 0, 10, 0$ без регуляризации: 0.927 (595); с регуляризацией 0.937 (52)    \n",
    "$w_1, w_2, w_{1,new}, w_{2, new} = 0, 10, 0, 10$ без регуляризации: 0.927 (537); с регуляризацией 0.937 (48)   \n",
    "$w_1, w_2, w_{1,new}, w_{2, new} = 10, 10, 0, 0$ без регуляризации: 0.927 (240); с регуляризацией 0.937 (48)  \n",
    "$w_1, w_2, w_{1,new}, w_{2, new} = 0, 0, 10, 10$ без регуляризации: 0.927 (527); с регуляризацией 0.937 (54)  \n",
    " \n"
   ]
  },
  {
   "cell_type": "code",
   "execution_count": 20,
   "metadata": {},
   "outputs": [
    {
     "data": {
      "application/vnd.jupyter.widget-view+json": {
       "model_id": "c06cacf2cb984af4a11783417850d99e",
       "version_major": 2,
       "version_minor": 0
      },
      "text/plain": [
       "HBox(children=(IntProgress(value=0, max=10000), HTML(value='')))"
      ]
     },
     "metadata": {},
     "output_type": "display_data"
    },
    {
     "name": "stdout",
     "output_type": "stream",
     "text": [
      "без регуляризации 0.9266666666666666\n"
     ]
    },
    {
     "data": {
      "application/vnd.jupyter.widget-view+json": {
       "model_id": "a73ec2b0b18c4e2aba377e4553a7287a",
       "version_major": 2,
       "version_minor": 0
      },
      "text/plain": [
       "HBox(children=(IntProgress(value=0, max=10000), HTML(value='')))"
      ]
     },
     "metadata": {},
     "output_type": "display_data"
    },
    {
     "name": "stdout",
     "output_type": "stream",
     "text": [
      "С регуляризацией 0.9370476190476189\n"
     ]
    }
   ],
   "source": [
    "w_1, w_2 = 0, 0\n",
    "w_1_new, w_2_new = 10, 10\n",
    "k = 0.1\n",
    "l = data.shape[0]\n",
    "range_r = 100\n",
    "num_iter = 0\n",
    "C = 10\n",
    "\n",
    "# без регуляризации\n",
    "for i in tqdm(range(10000)):\n",
    "    w_1_new = w_1_new + k*1/l*sum([ data.iloc[i,0]*data.iloc[i,1]*(1 - 1/(1 + math.exp(-data.iloc[i,0]*(w_1*data.iloc[i,1] + w_2*data.iloc[i,2]))))  for i in range(l)])\n",
    "    w_2_new = w_2_new + k*1/l*sum([ data.iloc[i,0]*data.iloc[i,2]*(1 - 1/(1 + math.exp(-data.iloc[i,0]*(w_1*data.iloc[i,1] + w_2*data.iloc[i,2]))))  for i in range(l)])\n",
    "    range_r = ((w_1_new - w_1)**2 + (w_2_new - w_2)**2)**(1/2)\n",
    "    w_2 = w_2_new\n",
    "    w_1 = w_1_new\n",
    "    if (range_r < 10**(-5)): break\n",
    "a = [1/ (1+math.exp(-w_1*data.iloc[i, 1] - w_2*data.iloc[i,2])) for i in range(l)]\n",
    "print(\"без регуляризации\", roc_auc_score(data.iloc[:,0], a))\n",
    "\n",
    "# С регуляризацией\n",
    "for i in tqdm(range(10000)):\n",
    "    w_1_new = w_1_new + k*1/l*sum([ data.iloc[i,0]*data.iloc[i,1]*(1 - 1/(1 + math.exp(-data.iloc[i,0]*(w_1*data.iloc[i,1] + w_2*data.iloc[i,2]))))  for i in range(l)] - k*C*w_1_new)\n",
    "    w_2_new = w_2_new + k*1/l*sum([ data.iloc[i,0]*data.iloc[i,2]*(1 - 1/(1 + math.exp(-data.iloc[i,0]*(w_1*data.iloc[i,1] + w_2*data.iloc[i,2]))))  for i in range(l)] - k*C*w_2_new)\n",
    "    range_r = ((w_1_new - w_1)**2 + (w_2_new - w_2)**2)**(1/2)\n",
    "    w_2 = w_2_new\n",
    "    w_1 = w_1_new\n",
    "    if (range_r < 10**(-5)): break\n",
    "a = [1/ (1+math.exp(-w_1*data.iloc[i, 1] - w_2*data.iloc[i,2])) for i in range(l)]\n",
    "print(\"С регуляризацией\", roc_auc_score(data.iloc[:,0], a))"
   ]
  },
  {
   "cell_type": "markdown",
   "metadata": {},
   "source": [
    "Какой AUC-ROC получается у классификаторов на обучающей выборке без регуляризации и при ее использовании (укажите два числа через пробел)?\n",
    "0.926 0.937"
   ]
  },
  {
   "cell_type": "code",
   "execution_count": null,
   "metadata": {},
   "outputs": [],
   "source": []
  },
  {
   "cell_type": "code",
   "execution_count": null,
   "metadata": {},
   "outputs": [],
   "source": []
  }
 ],
 "metadata": {
  "kernelspec": {
   "display_name": "Python 3",
   "language": "python",
   "name": "python3"
  },
  "language_info": {
   "codemirror_mode": {
    "name": "ipython",
    "version": 3
   },
   "file_extension": ".py",
   "mimetype": "text/x-python",
   "name": "python",
   "nbconvert_exporter": "python",
   "pygments_lexer": "ipython3",
   "version": "3.7.1"
  }
 },
 "nbformat": 4,
 "nbformat_minor": 2
}
