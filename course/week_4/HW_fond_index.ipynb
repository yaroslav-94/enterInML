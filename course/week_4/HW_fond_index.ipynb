{
 "cells": [
  {
   "cell_type": "code",
   "execution_count": 8,
   "metadata": {},
   "outputs": [],
   "source": [
    "import pandas as pd\n",
    "\n",
    "from sklearn.decomposition import IncrementalPCA\n",
    "from scipy.stats.stats import pearsonr"
   ]
  },
  {
   "cell_type": "markdown",
   "metadata": {},
   "source": [
    "1) Загрузите данные close_prices.csv. В этом файле приведены цены акций 30 компаний на закрытии торгов за каждый день периода. "
   ]
  },
  {
   "cell_type": "code",
   "execution_count": 6,
   "metadata": {
    "scrolled": true
   },
   "outputs": [
    {
     "name": "stdout",
     "output_type": "stream",
     "text": [
      "         date        AXP          BA        CAT       CSCO         CVX  \\\n",
      "0  2013-09-23  76.440002  117.510002  85.029999  24.270000  125.519997   \n",
      "1  2013-09-24  76.070000  119.000000  85.110001  24.139999  124.489998   \n",
      "2  2013-09-25  75.989998  118.510002  84.500000  24.430000  124.070000   \n",
      "3  2013-09-26  76.320000  119.379997  84.199997  23.770000  123.489998   \n",
      "4  2013-09-27  75.889999  118.739998  83.800003  23.330000  122.639999   \n",
      "\n",
      "          DD        DIS         GE          GS    ...            PFE  \\\n",
      "0  59.409999  64.750000  24.280001  165.250000    ...      28.799999   \n",
      "1  59.319997  64.320000  24.320000  162.970001    ...      28.709999   \n",
      "2  59.319997  64.449997  24.230000  162.309998    ...      28.490000   \n",
      "3  59.509996  65.239998  24.250000  162.289993    ...      28.520000   \n",
      "4  59.009995  65.190002  24.049999  159.850006    ...      28.879999   \n",
      "\n",
      "          PG          T        TRV        UNH         UTX           V  \\\n",
      "0  79.279999  34.220001  86.379997  71.820000  109.419998  196.240005   \n",
      "1  78.620003  34.090000  85.870003  72.320000  110.000000  193.339996   \n",
      "2  77.720001  34.049999  85.980003  71.980003  109.260002  191.559998   \n",
      "3  78.050003  34.230000  85.830002  72.160004  109.660004  193.559998   \n",
      "4  77.209999  33.980000  85.410004  71.989998  109.360001  193.050003   \n",
      "\n",
      "          VZ        WMT        XOM  \n",
      "0  47.980000  76.419998  87.750000  \n",
      "1  47.270000  75.750000  87.360001  \n",
      "2  46.950001  74.650002  87.139999  \n",
      "3  47.669998  74.620003  87.070000  \n",
      "4  47.000000  74.360001  86.900002  \n",
      "\n",
      "[5 rows x 31 columns]\n",
      "         date        AXP          BA        CAT       CSCO         CVX  \\\n",
      "0  2013-09-23  76.440002  117.510002  85.029999  24.270000  125.519997   \n",
      "1  2013-09-24  76.070000  119.000000  85.110001  24.139999  124.489998   \n",
      "2  2013-09-25  75.989998  118.510002  84.500000  24.430000  124.070000   \n",
      "3  2013-09-26  76.320000  119.379997  84.199997  23.770000  123.489998   \n",
      "4  2013-09-27  75.889999  118.739998  83.800003  23.330000  122.639999   \n",
      "\n",
      "          DD        DIS         GE          GS    ...            PFE  \\\n",
      "0  59.409999  64.750000  24.280001  165.250000    ...      28.799999   \n",
      "1  59.319997  64.320000  24.320000  162.970001    ...      28.709999   \n",
      "2  59.319997  64.449997  24.230000  162.309998    ...      28.490000   \n",
      "3  59.509996  65.239998  24.250000  162.289993    ...      28.520000   \n",
      "4  59.009995  65.190002  24.049999  159.850006    ...      28.879999   \n",
      "\n",
      "          PG          T        TRV        UNH         UTX           V  \\\n",
      "0  79.279999  34.220001  86.379997  71.820000  109.419998  196.240005   \n",
      "1  78.620003  34.090000  85.870003  72.320000  110.000000  193.339996   \n",
      "2  77.720001  34.049999  85.980003  71.980003  109.260002  191.559998   \n",
      "3  78.050003  34.230000  85.830002  72.160004  109.660004  193.559998   \n",
      "4  77.209999  33.980000  85.410004  71.989998  109.360001  193.050003   \n",
      "\n",
      "          VZ        WMT        XOM  \n",
      "0  47.980000  76.419998  87.750000  \n",
      "1  47.270000  75.750000  87.360001  \n",
      "2  46.950001  74.650002  87.139999  \n",
      "3  47.669998  74.620003  87.070000  \n",
      "4  47.000000  74.360001  86.900002  \n",
      "\n",
      "[5 rows x 31 columns]\n"
     ]
    }
   ],
   "source": [
    "data_train = pd.read_csv(r'/Users/u17491440/PycharmProjects/enterInML/data/week_4/close_prices.csv')\n",
    "print(data_test.head())\n",
    "\n",
    "data_test = pd.read_csv(r'/Users/u17491440/PycharmProjects/enterInML/data/week_4/djia_index.csv')\n",
    "print(data_train.head())"
   ]
  },
  {
   "cell_type": "markdown",
   "metadata": {},
   "source": [
    "2) На загруженных данных обучите преобразование PCA с числом компоненты равным 10. Скольких компонент хватит, чтобы объяснить 90% дисперсии?"
   ]
  },
  {
   "cell_type": "code",
   "execution_count": 7,
   "metadata": {
    "scrolled": false
   },
   "outputs": [
    {
     "name": "stdout",
     "output_type": "stream",
     "text": [
      "[0.73892531 0.11003496 0.04989187 0.02854979 0.02211184 0.019276\n",
      " 0.0066939  0.0059554  0.00306374 0.00297776]\n"
     ]
    }
   ],
   "source": [
    "ipca = IncrementalPCA(n_components=10)\n",
    "# Обучающая выборка\n",
    "del data_train['date']\n",
    "ipca.fit(data_train)\n",
    "print(ipca.explained_variance_ratio_)"
   ]
  },
  {
   "cell_type": "markdown",
   "metadata": {},
   "source": [
    "3) Примените построенное преобразование к исходным данным и возьмите значения первой компоненты. "
   ]
  },
  {
   "cell_type": "code",
   "execution_count": null,
   "metadata": {},
   "outputs": [],
   "source": []
  },
  {
   "cell_type": "markdown",
   "metadata": {},
   "source": [
    "4) Загрузите информацию об индексе Доу-Джонса из файла djia_index.csv. Чему равна корреляция Пирсона между первой компонентой и индексом Доу-Джонса? "
   ]
  },
  {
   "cell_type": "code",
   "execution_count": 12,
   "metadata": {},
   "outputs": [
    {
     "data": {
      "text/plain": [
       "(0.9096590977185374, 5.123261330854433e-144)"
      ]
     },
     "execution_count": 12,
     "metadata": {},
     "output_type": "execute_result"
    }
   ],
   "source": [
    "pearsonr(ipca.transform(data_train)[:,0], data_test['^DJI'])"
   ]
  },
  {
   "cell_type": "markdown",
   "metadata": {},
   "source": [
    "5) Какая компания имеет наибольший вес в первой компоненте? Укажите ее название с большой буквы."
   ]
  },
  {
   "cell_type": "code",
   "execution_count": 13,
   "metadata": {},
   "outputs": [
    {
     "name": "stdout",
     "output_type": "stream",
     "text": [
      "V\n"
     ]
    }
   ],
   "source": [
    "max_corr = 0\n",
    "company = 0\n",
    "for i in range(0,30,1):\n",
    "    if (pearsonr(ipca.transform(data_train)[:,0], data_train.iloc[:,i])[0] >  max_corr):\n",
    "        max_corr = pearsonr(ipca.transform(data_train)[:,0], data_train.iloc[:,i])[0]\n",
    "        company = i\n",
    "print(list(data_train.columns.values)[company]) "
   ]
  },
  {
   "cell_type": "markdown",
   "metadata": {},
   "source": [
    "Сколько компонент достаточно, чтобы описать 90% дисперсии?\n",
    "3\n",
    "Вычислите коэффициент корреляции Пирсона между значением по первой компоненте и индексом Доу-Джонса.\n",
    "0.91\n",
    "Какая компания имеет наибольший вес в первой компоненте?\n",
    "V"
   ]
  },
  {
   "cell_type": "code",
   "execution_count": null,
   "metadata": {},
   "outputs": [],
   "source": []
  },
  {
   "cell_type": "code",
   "execution_count": null,
   "metadata": {},
   "outputs": [],
   "source": []
  },
  {
   "cell_type": "code",
   "execution_count": null,
   "metadata": {},
   "outputs": [],
   "source": []
  },
  {
   "cell_type": "code",
   "execution_count": null,
   "metadata": {},
   "outputs": [],
   "source": []
  },
  {
   "cell_type": "code",
   "execution_count": null,
   "metadata": {},
   "outputs": [],
   "source": []
  }
 ],
 "metadata": {
  "kernelspec": {
   "display_name": "Python 3",
   "language": "python",
   "name": "python3"
  },
  "language_info": {
   "codemirror_mode": {
    "name": "ipython",
    "version": 3
   },
   "file_extension": ".py",
   "mimetype": "text/x-python",
   "name": "python",
   "nbconvert_exporter": "python",
   "pygments_lexer": "ipython3",
   "version": "3.7.1"
  }
 },
 "nbformat": 4,
 "nbformat_minor": 2
}
